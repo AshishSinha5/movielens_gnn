{
 "cells": [
  {
   "cell_type": "code",
   "execution_count": 1,
   "metadata": {},
   "outputs": [],
   "source": [
    "import pandas as pd \n",
    "import numpy as np\n",
    "import os\n",
    "import matplotlib.pyplot as plt\n"
   ]
  },
  {
   "cell_type": "code",
   "execution_count": 2,
   "metadata": {},
   "outputs": [],
   "source": [
    "import yaml \n",
    "import pandas as pd \n",
    "import numpy as np\n",
    "import matplotlib.pyplot as plt \n",
    "import torch "
   ]
  },
  {
   "cell_type": "code",
   "execution_count": 3,
   "metadata": {},
   "outputs": [],
   "source": [
    "from sklearn.preprocessing import OneHotEncoder, MultiLabelBinarizer\n",
    "from sklearn.feature_extraction.text import TfidfVectorizer"
   ]
  },
  {
   "cell_type": "code",
   "execution_count": 4,
   "metadata": {},
   "outputs": [
    {
     "name": "stderr",
     "output_type": "stream",
     "text": [
      "/Users/ashish.kumarsinha/Documents/workspace/gnn/gnn-env/lib/python3.9/site-packages/urllib3/__init__.py:35: NotOpenSSLWarning: urllib3 v2 only supports OpenSSL 1.1.1+, currently the 'ssl' module is compiled with 'LibreSSL 2.8.3'. See: https://github.com/urllib3/urllib3/issues/3020\n",
      "  warnings.warn(\n"
     ]
    }
   ],
   "source": [
    "from gensim.models import Word2Vec"
   ]
  },
  {
   "cell_type": "code",
   "execution_count": 5,
   "metadata": {},
   "outputs": [],
   "source": [
    "from data_preprocess import create_data"
   ]
  },
  {
   "cell_type": "code",
   "execution_count": 6,
   "metadata": {},
   "outputs": [],
   "source": [
    "config_file_path = 'config.yaml'"
   ]
  },
  {
   "cell_type": "code",
   "execution_count": 7,
   "metadata": {},
   "outputs": [
    {
     "name": "stdout",
     "output_type": "stream",
     "text": [
      "   UserID Gender  Age  Occupation Zip-code\n",
      "0       1      F    1          10    48067\n",
      "1       2      M   56          16    70072\n",
      "2       3      M   25          15    55117\n",
      "3       4      M   45           7    02460\n",
      "4       5      M   25          20    55455\n",
      "   MovieID                               Title                        Genres\n",
      "0        1                    Toy Story (1995)   Animation|Children's|Comedy\n",
      "1        2                      Jumanji (1995)  Adventure|Children's|Fantasy\n",
      "2        3             Grumpier Old Men (1995)                Comedy|Romance\n",
      "3        4            Waiting to Exhale (1995)                  Comedy|Drama\n",
      "4        5  Father of the Bride Part II (1995)                        Comedy\n",
      "   UserID  MovieID  Rating  Timestamp\n",
      "0       1     1193       5  978300760\n",
      "1       1      661       3  978302109\n",
      "2       1      914       3  978301968\n",
      "3       1     3408       4  978300275\n",
      "4       1     2355       5  978824291\n"
     ]
    }
   ],
   "source": [
    "users, movies, train_ratings, val_ratings, test_ratings, config = create_data(config_file_path)"
   ]
  },
  {
   "cell_type": "code",
   "execution_count": 8,
   "metadata": {},
   "outputs": [
    {
     "name": "stdout",
     "output_type": "stream",
     "text": [
      "User Features Shape: (6040, 29)\n"
     ]
    }
   ],
   "source": [
    "# Encode Gender (binary encoding: M=0, F=1)\n",
    "users['Gender'] = users['Gender'].map({'M': 0, 'F': 1})\n",
    "\n",
    "# One-hot encode Age and Occupation\n",
    "encoder = OneHotEncoder()\n",
    "age_encoded = encoder.fit_transform(users[['Age']]).toarray()\n",
    "occupation_encoded = encoder.fit_transform(users[['Occupation']]).toarray()\n",
    "\n",
    "# Combine all features\n",
    "import numpy as np\n",
    "user_features = np.hstack([users[['Gender']].values, age_encoded, occupation_encoded])\n",
    "\n",
    "print(\"User Features Shape:\", user_features.shape)"
   ]
  },
  {
   "cell_type": "code",
   "execution_count": 9,
   "metadata": {},
   "outputs": [
    {
     "name": "stdout",
     "output_type": "stream",
     "text": [
      "Movie Features Shape: (3883, 200)\n"
     ]
    }
   ],
   "source": [
    "# Extract Year from Title\n",
    "movies['Year'] = movies['Title'].str.extract(r'\\((\\d{4})\\)', expand=False)\n",
    "movies['Year'] = movies['Year'].fillna(0).astype(int)  # Handle missing years\n",
    "\n",
    "\n",
    "# Preprocess Genres\n",
    "movies['Genres'] = movies['Genres'].str.split('|')  # Split genres into lists\n",
    "\n",
    "# Preprocess Titles (remove year and tokenize)\n",
    "movies['TitleTokens'] = movies['Title'].str.replace(r'\\(\\d{4}\\)', '', regex=True).str.strip().str.lower().str.split()\n",
    "\n",
    "# Combine all text (genres + titles) for training Word2Vec\n",
    "all_text = movies['Genres'].tolist() + movies['TitleTokens'].tolist()\n",
    "\n",
    "# Train Word2Vec model\n",
    "w2v_model = Word2Vec(sentences=all_text, vector_size=100, window=5, min_count=1, workers=4)\n",
    "\n",
    "# Function to compute average Word2Vec embeddings\n",
    "def compute_avg_w2v(tokens, model):\n",
    "    \"\"\"\n",
    "    Computes the average Word2Vec embedding for a list of tokens.\n",
    "    \"\"\"\n",
    "    embeddings = [model.wv[token] for token in tokens if token in model.wv]\n",
    "    if embeddings:\n",
    "        return np.mean(embeddings, axis=0)\n",
    "    else:\n",
    "        return np.zeros(model.vector_size)\n",
    "\n",
    "# Compute embeddings for Genres\n",
    "movies['GenreEmbedding'] = movies['Genres'].apply(lambda x: compute_avg_w2v(x, w2v_model))\n",
    "\n",
    "# Compute embeddings for Titles\n",
    "movies['TitleEmbedding'] = movies['TitleTokens'].apply(lambda x: compute_avg_w2v(x, w2v_model))\n",
    "\n",
    "# Combine Genre and Title embeddings\n",
    "movies['CombinedEmbedding'] = movies.apply(\n",
    "    lambda row: np.hstack([row['GenreEmbedding'], row['TitleEmbedding']]), axis=1\n",
    ")\n",
    "\n",
    "# Convert to a feature matrix\n",
    "movie_features = np.vstack(movies['CombinedEmbedding'])\n",
    "\n",
    "print(\"Movie Features Shape:\", movie_features.shape)"
   ]
  },
  {
   "cell_type": "code",
   "execution_count": 10,
   "metadata": {},
   "outputs": [
    {
     "data": {
      "text/plain": [
       "array([[ 3.6688002e-03,  9.2054838e-03,  3.6766834e-03, ...,\n",
       "        -8.4105134e-03,  1.8819816e-03,  3.8683200e-03],\n",
       "       [-2.2051409e-03,  1.1449152e-02,  7.9483362e-03, ...,\n",
       "         4.3088472e-03,  6.9524052e-05, -4.2605507e-03],\n",
       "       [-4.7413115e-03,  4.3921703e-03, -3.4589744e-03, ...,\n",
       "        -7.8097121e-03, -7.9876771e-03,  8.1994338e-05],\n",
       "       ...,\n",
       "       [-1.2162661e-03,  3.9624390e-03,  5.8436645e-03, ...,\n",
       "         3.5839546e-03, -8.4574390e-03,  3.1285023e-03],\n",
       "       [-1.2162661e-03,  3.9624390e-03,  5.8436645e-03, ...,\n",
       "        -4.9603912e-03, -1.0659077e-02,  3.0752320e-03],\n",
       "       [-4.7636400e-03,  4.4883694e-03, -6.8198680e-04, ...,\n",
       "        -4.7323912e-02, -5.0380740e-02,  5.9759859e-02]], dtype=float32)"
      ]
     },
     "execution_count": 10,
     "metadata": {},
     "output_type": "execute_result"
    }
   ],
   "source": [
    "movie_features"
   ]
  },
  {
   "cell_type": "code",
   "execution_count": 11,
   "metadata": {},
   "outputs": [],
   "source": [
    "from torch_geometric.data import HeteroData"
   ]
  },
  {
   "cell_type": "code",
   "execution_count": 12,
   "metadata": {},
   "outputs": [],
   "source": [
    "data = HeteroData()"
   ]
  },
  {
   "cell_type": "code",
   "execution_count": null,
   "metadata": {},
   "outputs": [],
   "source": [
    "data['users'].x = user_features\n",
    "data['movies'].x = movie_features\n",
    "\n",
    "edge_index_user_to_movie = torch.tensor(test_ratings[['UserID', 'MovieID']].values.T, dtype=torch.long)"
   ]
  }
 ],
 "metadata": {
  "kernelspec": {
   "display_name": "gnn-env",
   "language": "python",
   "name": "python3"
  },
  "language_info": {
   "codemirror_mode": {
    "name": "ipython",
    "version": 3
   },
   "file_extension": ".py",
   "mimetype": "text/x-python",
   "name": "python",
   "nbconvert_exporter": "python",
   "pygments_lexer": "ipython3",
   "version": "3.9.6"
  }
 },
 "nbformat": 4,
 "nbformat_minor": 2
}
