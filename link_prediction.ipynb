{
 "cells": [
  {
   "cell_type": "markdown",
   "metadata": {},
   "source": [
    "### Hypothesis \n",
    "\n",
    "Users are rating movies, can we \n",
    "1. create a bipartite graph of user and movies, with edges as interaction between them \n",
    "    1. edges are 0/1 binary \n",
    "    2. edges are weighted by the ratings\n",
    "2. Evaluate we then infer the affinity of users towards a perticular movie by predicting \n",
    "    1. if there exists an edge between the movie and the user\n",
    "    2. edge weight prediction to predict the ratings for the user and movie"
   ]
  },
  {
   "cell_type": "markdown",
   "metadata": {},
   "source": [
    "### Import the packages"
   ]
  },
  {
   "cell_type": "code",
   "execution_count": 97,
   "metadata": {},
   "outputs": [],
   "source": [
    "import os\n",
    "import re\n",
    "import yaml \n",
    "import pandas as pd \n",
    "import numpy as np\n",
    "import matplotlib.pyplot as plt\n",
    "from tqdm import tqdm\n",
    "\n",
    "\n",
    "from sklearn.preprocessing import OneHotEncoder, MultiLabelBinarizer, LabelEncoder\n",
    "from sklearn.feature_extraction.text import TfidfVectorizer\n",
    "from gensim.models import KeyedVectors\n",
    "from gensim.parsing.preprocessing import remove_stopword_tokens\n",
    "\n",
    "import torch\n",
    "from torch_geometric.data import HeteroData\n",
    "from torch_geometric.loader import LinkLoader, LinkNeighborLoader, NeighborLoader\n",
    "import torch_geometric.transforms as T"
   ]
  },
  {
   "cell_type": "code",
   "execution_count": 98,
   "metadata": {},
   "outputs": [],
   "source": [
    "from torch_geometric.nn import SAGEConv, to_hetero\n",
    "from torch import Tensor"
   ]
  },
  {
   "cell_type": "code",
   "execution_count": null,
   "metadata": {},
   "outputs": [],
   "source": []
  },
  {
   "cell_type": "code",
   "execution_count": 99,
   "metadata": {},
   "outputs": [
    {
     "name": "stdout",
     "output_type": "stream",
     "text": [
      "   UserID Gender  Age  Occupation Zip-code\n",
      "0       1      F    1          10    48067\n",
      "1       2      M   56          16    70072\n",
      "2       3      M   25          15    55117\n",
      "3       4      M   45           7    02460\n",
      "4       5      M   25          20    55455\n",
      "   MovieID                               Title                        Genres\n",
      "0        1                    Toy Story (1995)   Animation|Children's|Comedy\n",
      "1        2                      Jumanji (1995)  Adventure|Children's|Fantasy\n",
      "2        3             Grumpier Old Men (1995)                Comedy|Romance\n",
      "3        4            Waiting to Exhale (1995)                  Comedy|Drama\n",
      "4        5  Father of the Bride Part II (1995)                        Comedy\n",
      "   UserID  MovieID  Rating  Timestamp\n",
      "0       1     1193       5  978300760\n",
      "1       1      661       3  978302109\n",
      "2       1      914       3  978301968\n",
      "3       1     3408       4  978300275\n",
      "4       1     2355       5  978824291\n"
     ]
    }
   ],
   "source": [
    "# raw_data_path\n",
    "raw_data_root_path = 'data/movie-lens/ml-1m/'\n",
    "movie_file_name = 'movies.dat'\n",
    "users_file_name = 'users.dat'\n",
    "ratings_file_name = 'ratings.dat'\n",
    "movies_data_path = os.path.join(raw_data_root_path, movie_file_name)\n",
    "users_data_path = os.path.join(raw_data_root_path, users_file_name)\n",
    "ratings_data_path = os.path.join(raw_data_root_path, ratings_file_name)\n",
    "\n",
    "# read data to df \n",
    "# Read users\n",
    "users = pd.read_csv(users_data_path, \n",
    "                    sep=\"::\", \n",
    "                    engine=\"python\", \n",
    "                    encoding=\"ISO-8859-1\", \n",
    "                    names=[\"UserID\", \"Gender\", \"Age\", \"Occupation\", \"Zip-code\"])\n",
    "print(users.head())\n",
    "# Read movies\n",
    "movies = pd.read_csv(movies_data_path, \n",
    "                        sep=\"::\", \n",
    "                        engine=\"python\", \n",
    "                        encoding=\"ISO-8859-1\", \n",
    "                        names=[\"MovieID\", \"Title\", \"Genres\"])\n",
    "print(movies.head())\n",
    "# Read ratings\n",
    "ratings = pd.read_csv(ratings_data_path, \n",
    "                        sep=\"::\", \n",
    "                        engine=\"python\", \n",
    "                        encoding=\"ISO-8859-1\", \n",
    "                        names=[\"UserID\", \"MovieID\", \"Rating\", \"Timestamp\"])\n",
    "print(ratings.head())"
   ]
  },
  {
   "cell_type": "code",
   "execution_count": 100,
   "metadata": {},
   "outputs": [
    {
     "name": "stdout",
     "output_type": "stream",
     "text": [
      "users.shape = (6040, 5)\n",
      "movies.shape = (3883, 3)\n",
      "ratings.shape = (1000209, 4)\n",
      "Number of users in user df = 6040\n",
      "Number of movies in movie df = 3883\n",
      "Number of users in ratings df = 6040\n",
      "Number of movies in ratings df = 3706\n"
     ]
    }
   ],
   "source": [
    "print(f'{users.shape = }')\n",
    "print(f'{movies.shape = }')\n",
    "print(f'{ratings.shape = }')\n",
    "print(f'Number of users in user df = {users['UserID'].nunique()}')\n",
    "print(f'Number of movies in movie df = {movies['MovieID'].nunique()}')\n",
    "print(f'Number of users in ratings df = {ratings['UserID'].nunique()}')\n",
    "print(f'Number of movies in ratings df = {ratings['MovieID'].nunique()}')"
   ]
  },
  {
   "cell_type": "markdown",
   "metadata": {},
   "source": [
    "### Split the data temporally\n",
    "\n",
    "We'll split the data temporally to mimick the deployement time scenario as closely as possible.\n",
    "The split would on ratings df \n",
    "- train set - 90% \n",
    "- test set - 10% \n",
    "\n",
    "train set would further be devided into another train and val set. We can use inbuilt Random Splitter for latter task\n",
    "\n",
    "For users and movies - the hypothesis is that we're inly aware about the user, movie that exist in the system before the thrshhold time of split. So we'll have the train and test users/movies as well "
   ]
  },
  {
   "cell_type": "code",
   "execution_count": 101,
   "metadata": {},
   "outputs": [
    {
     "name": "stdout",
     "output_type": "stream",
     "text": [
      "train_ratings.shape = (900189, 4)\n",
      "test_ratings.shape = (100020, 4)\n"
     ]
    }
   ],
   "source": [
    "# split the data temporally\n",
    "train_prop  = 0.9\n",
    "test_prop = 0.1 \n",
    "\n",
    "ratings.sort_values(by = 'Timestamp',\n",
    "                    ascending=True, \n",
    "                    inplace=True)\n",
    "\n",
    "ratings.reset_index(drop = True,\n",
    "                    inplace=True)\n",
    "\n",
    "start_time = ratings['Timestamp'].loc[0]\n",
    "end_time = ratings['Timestamp'].loc[len(ratings) - 1]\n",
    "\n",
    "train_start_time = start_time \n",
    "train_end_time = ratings['Timestamp'].loc[int(len(ratings)*train_prop)]\n",
    "test_start_time = ratings['Timestamp'].loc[int(len(ratings)*train_prop) + 1]\n",
    "test_end_time = end_time \n",
    "\n",
    "train_ratings = ratings[(ratings['Timestamp'] <= train_end_time) & (ratings['Timestamp'] >= train_start_time)]\n",
    "test_ratings = ratings[(ratings['Timestamp'] <= test_end_time) & (ratings['Timestamp'] >= test_start_time)]\n",
    "\n",
    "print(f'{train_ratings.shape = }')\n",
    "print(f'{test_ratings.shape = }')\n",
    "\n",
    "train_user_id = train_ratings['UserID'].unique().tolist()\n",
    "train_movie_id = train_ratings['MovieID'].unique().tolist()\n",
    "test_user_id = test_ratings['UserID'].unique().tolist()\n",
    "test_movie_id = test_ratings['MovieID'].unique().tolist()\n",
    "\n",
    "train_users = users[users['UserID'].isin(train_user_id)]\n",
    "test_users = users[users['UserID'].isin(test_user_id)]\n",
    "train_movies = movies[movies['MovieID'].isin(train_movie_id)]\n",
    "test_movies = movies[movies['MovieID'].isin(test_movie_id)]"
   ]
  },
  {
   "cell_type": "markdown",
   "metadata": {},
   "source": [
    "### Feature Engineering\n",
    "\n",
    "Create a feature engineering routine. \n",
    "Takes in the raw user, movie and ratings table, performes the following tasks - "
   ]
  },
  {
   "cell_type": "code",
   "execution_count": 102,
   "metadata": {},
   "outputs": [
    {
     "data": {
      "text/html": [
       "<div>\n",
       "<style scoped>\n",
       "    .dataframe tbody tr th:only-of-type {\n",
       "        vertical-align: middle;\n",
       "    }\n",
       "\n",
       "    .dataframe tbody tr th {\n",
       "        vertical-align: top;\n",
       "    }\n",
       "\n",
       "    .dataframe thead th {\n",
       "        text-align: right;\n",
       "    }\n",
       "</style>\n",
       "<table border=\"1\" class=\"dataframe\">\n",
       "  <thead>\n",
       "    <tr style=\"text-align: right;\">\n",
       "      <th></th>\n",
       "      <th>UserID</th>\n",
       "      <th>Gender</th>\n",
       "      <th>Age</th>\n",
       "      <th>Occupation</th>\n",
       "      <th>Zip-code</th>\n",
       "    </tr>\n",
       "  </thead>\n",
       "  <tbody>\n",
       "    <tr>\n",
       "      <th>0</th>\n",
       "      <td>1</td>\n",
       "      <td>F</td>\n",
       "      <td>1</td>\n",
       "      <td>10</td>\n",
       "      <td>48067</td>\n",
       "    </tr>\n",
       "    <tr>\n",
       "      <th>1</th>\n",
       "      <td>2</td>\n",
       "      <td>M</td>\n",
       "      <td>56</td>\n",
       "      <td>16</td>\n",
       "      <td>70072</td>\n",
       "    </tr>\n",
       "    <tr>\n",
       "      <th>2</th>\n",
       "      <td>3</td>\n",
       "      <td>M</td>\n",
       "      <td>25</td>\n",
       "      <td>15</td>\n",
       "      <td>55117</td>\n",
       "    </tr>\n",
       "    <tr>\n",
       "      <th>3</th>\n",
       "      <td>4</td>\n",
       "      <td>M</td>\n",
       "      <td>45</td>\n",
       "      <td>7</td>\n",
       "      <td>02460</td>\n",
       "    </tr>\n",
       "    <tr>\n",
       "      <th>4</th>\n",
       "      <td>5</td>\n",
       "      <td>M</td>\n",
       "      <td>25</td>\n",
       "      <td>20</td>\n",
       "      <td>55455</td>\n",
       "    </tr>\n",
       "    <tr>\n",
       "      <th>...</th>\n",
       "      <td>...</td>\n",
       "      <td>...</td>\n",
       "      <td>...</td>\n",
       "      <td>...</td>\n",
       "      <td>...</td>\n",
       "    </tr>\n",
       "    <tr>\n",
       "      <th>6035</th>\n",
       "      <td>6036</td>\n",
       "      <td>F</td>\n",
       "      <td>25</td>\n",
       "      <td>15</td>\n",
       "      <td>32603</td>\n",
       "    </tr>\n",
       "    <tr>\n",
       "      <th>6036</th>\n",
       "      <td>6037</td>\n",
       "      <td>F</td>\n",
       "      <td>45</td>\n",
       "      <td>1</td>\n",
       "      <td>76006</td>\n",
       "    </tr>\n",
       "    <tr>\n",
       "      <th>6037</th>\n",
       "      <td>6038</td>\n",
       "      <td>F</td>\n",
       "      <td>56</td>\n",
       "      <td>1</td>\n",
       "      <td>14706</td>\n",
       "    </tr>\n",
       "    <tr>\n",
       "      <th>6038</th>\n",
       "      <td>6039</td>\n",
       "      <td>F</td>\n",
       "      <td>45</td>\n",
       "      <td>0</td>\n",
       "      <td>01060</td>\n",
       "    </tr>\n",
       "    <tr>\n",
       "      <th>6039</th>\n",
       "      <td>6040</td>\n",
       "      <td>M</td>\n",
       "      <td>25</td>\n",
       "      <td>6</td>\n",
       "      <td>11106</td>\n",
       "    </tr>\n",
       "  </tbody>\n",
       "</table>\n",
       "<p>6040 rows × 5 columns</p>\n",
       "</div>"
      ],
      "text/plain": [
       "      UserID Gender  Age  Occupation Zip-code\n",
       "0          1      F    1          10    48067\n",
       "1          2      M   56          16    70072\n",
       "2          3      M   25          15    55117\n",
       "3          4      M   45           7    02460\n",
       "4          5      M   25          20    55455\n",
       "...      ...    ...  ...         ...      ...\n",
       "6035    6036      F   25          15    32603\n",
       "6036    6037      F   45           1    76006\n",
       "6037    6038      F   56           1    14706\n",
       "6038    6039      F   45           0    01060\n",
       "6039    6040      M   25           6    11106\n",
       "\n",
       "[6040 rows x 5 columns]"
      ]
     },
     "execution_count": 102,
     "metadata": {},
     "output_type": "execute_result"
    }
   ],
   "source": [
    "users "
   ]
  },
  {
   "cell_type": "code",
   "execution_count": 103,
   "metadata": {},
   "outputs": [],
   "source": [
    "w2v_model = KeyedVectors.load_word2vec_format('data/GoogleNews-vectors-negative300_2.bin', binary=True)"
   ]
  },
  {
   "cell_type": "code",
   "execution_count": 8,
   "metadata": {},
   "outputs": [],
   "source": [
    "possible_genres = ['action',\n",
    "                    'adventure',\n",
    "                    'animation',\n",
    "                    \"children's\",\n",
    "                    'comedy',\n",
    "                    'crime',\n",
    "                    'documentary',\n",
    "                    'drama',\n",
    "                    'fantasy',\n",
    "                    'film-noir',\n",
    "                    'horror',\n",
    "                    'musical',\n",
    "                    'mystery',\n",
    "                    'romance',\n",
    "                    'sci-fi',\n",
    "                    'thriller',\n",
    "                    'war',\n",
    "                    'western']"
   ]
  },
  {
   "cell_type": "code",
   "execution_count": 104,
   "metadata": {},
   "outputs": [
    {
     "data": {
      "text/html": [
       "<div>\n",
       "<style scoped>\n",
       "    .dataframe tbody tr th:only-of-type {\n",
       "        vertical-align: middle;\n",
       "    }\n",
       "\n",
       "    .dataframe tbody tr th {\n",
       "        vertical-align: top;\n",
       "    }\n",
       "\n",
       "    .dataframe thead th {\n",
       "        text-align: right;\n",
       "    }\n",
       "</style>\n",
       "<table border=\"1\" class=\"dataframe\">\n",
       "  <thead>\n",
       "    <tr style=\"text-align: right;\">\n",
       "      <th></th>\n",
       "      <th>MovieID</th>\n",
       "      <th>Title</th>\n",
       "      <th>Genres</th>\n",
       "    </tr>\n",
       "  </thead>\n",
       "  <tbody>\n",
       "    <tr>\n",
       "      <th>0</th>\n",
       "      <td>1</td>\n",
       "      <td>Toy Story (1995)</td>\n",
       "      <td>Animation|Children's|Comedy</td>\n",
       "    </tr>\n",
       "    <tr>\n",
       "      <th>1</th>\n",
       "      <td>2</td>\n",
       "      <td>Jumanji (1995)</td>\n",
       "      <td>Adventure|Children's|Fantasy</td>\n",
       "    </tr>\n",
       "    <tr>\n",
       "      <th>2</th>\n",
       "      <td>3</td>\n",
       "      <td>Grumpier Old Men (1995)</td>\n",
       "      <td>Comedy|Romance</td>\n",
       "    </tr>\n",
       "    <tr>\n",
       "      <th>3</th>\n",
       "      <td>4</td>\n",
       "      <td>Waiting to Exhale (1995)</td>\n",
       "      <td>Comedy|Drama</td>\n",
       "    </tr>\n",
       "    <tr>\n",
       "      <th>4</th>\n",
       "      <td>5</td>\n",
       "      <td>Father of the Bride Part II (1995)</td>\n",
       "      <td>Comedy</td>\n",
       "    </tr>\n",
       "    <tr>\n",
       "      <th>...</th>\n",
       "      <td>...</td>\n",
       "      <td>...</td>\n",
       "      <td>...</td>\n",
       "    </tr>\n",
       "    <tr>\n",
       "      <th>3878</th>\n",
       "      <td>3948</td>\n",
       "      <td>Meet the Parents (2000)</td>\n",
       "      <td>Comedy</td>\n",
       "    </tr>\n",
       "    <tr>\n",
       "      <th>3879</th>\n",
       "      <td>3949</td>\n",
       "      <td>Requiem for a Dream (2000)</td>\n",
       "      <td>Drama</td>\n",
       "    </tr>\n",
       "    <tr>\n",
       "      <th>3880</th>\n",
       "      <td>3950</td>\n",
       "      <td>Tigerland (2000)</td>\n",
       "      <td>Drama</td>\n",
       "    </tr>\n",
       "    <tr>\n",
       "      <th>3881</th>\n",
       "      <td>3951</td>\n",
       "      <td>Two Family House (2000)</td>\n",
       "      <td>Drama</td>\n",
       "    </tr>\n",
       "    <tr>\n",
       "      <th>3882</th>\n",
       "      <td>3952</td>\n",
       "      <td>Contender, The (2000)</td>\n",
       "      <td>Drama|Thriller</td>\n",
       "    </tr>\n",
       "  </tbody>\n",
       "</table>\n",
       "<p>3883 rows × 3 columns</p>\n",
       "</div>"
      ],
      "text/plain": [
       "      MovieID                               Title  \\\n",
       "0           1                    Toy Story (1995)   \n",
       "1           2                      Jumanji (1995)   \n",
       "2           3             Grumpier Old Men (1995)   \n",
       "3           4            Waiting to Exhale (1995)   \n",
       "4           5  Father of the Bride Part II (1995)   \n",
       "...       ...                                 ...   \n",
       "3878     3948             Meet the Parents (2000)   \n",
       "3879     3949          Requiem for a Dream (2000)   \n",
       "3880     3950                    Tigerland (2000)   \n",
       "3881     3951             Two Family House (2000)   \n",
       "3882     3952               Contender, The (2000)   \n",
       "\n",
       "                            Genres  \n",
       "0      Animation|Children's|Comedy  \n",
       "1     Adventure|Children's|Fantasy  \n",
       "2                   Comedy|Romance  \n",
       "3                     Comedy|Drama  \n",
       "4                           Comedy  \n",
       "...                            ...  \n",
       "3878                        Comedy  \n",
       "3879                         Drama  \n",
       "3880                         Drama  \n",
       "3881                         Drama  \n",
       "3882                Drama|Thriller  \n",
       "\n",
       "[3883 rows x 3 columns]"
      ]
     },
     "execution_count": 104,
     "metadata": {},
     "output_type": "execute_result"
    }
   ],
   "source": [
    "movies"
   ]
  },
  {
   "cell_type": "code",
   "execution_count": 105,
   "metadata": {},
   "outputs": [],
   "source": [
    "def preprocess_genre(genre):\n",
    "    genre = genre.lower()\n",
    "    genre = genre.split('|')\n",
    "    return genre\n",
    "    \n",
    "def preprocess_title(title):\n",
    "    title = title.lower()\n",
    "    title = title.split(' ')\n",
    "    title = remove_stopword_tokens(title)\n",
    "    title  = [re.sub(r\"[^ a-zA-Z0-9]+\",'',word) for word in title]\n",
    "    title = [word.strip() for word in title]\n",
    "    title = [word for word in title if len(word)]\n",
    "    return title\n",
    "\n",
    "def compute_average_embedding(genres, w2v_model):\n",
    "    embeddings = [w2v_model.get_vector(genre) for genre in genres if genre in w2v_model.index_to_key]\n",
    "    if embeddings:\n",
    "        return np.mean(embeddings, axis=0).tolist()\n",
    "    else:\n",
    "        # Return a zero vector if no genres are found in the model\n",
    "        return np.zeros(w2v_model.vector_size).tolist()\n",
    "\n",
    "def create_features(users, movies, ratings):\n",
    "    \"\"\"\n",
    "    - Encode the userid, movieid\n",
    "    - Map the genfer to F/M = 0/1\n",
    "    - create word2vec average embeddings for the Title\n",
    "    - create multihot encoding for genre\n",
    "    - create encoding for Year\n",
    "    \"\"\"\n",
    "    user_encoder = LabelEncoder()\n",
    "    movie_encoder = LabelEncoder()\n",
    "    users['UserID'] = user_encoder.fit_transform(users['UserID'])\n",
    "    movies['MovieID'] = movie_encoder.fit_transform(movies['MovieID'])\n",
    "\n",
    "    ratings['UserID'] = user_encoder.transform(ratings['UserID'])\n",
    "    ratings['MovieID'] = movie_encoder.transform(ratings['MovieID'])\n",
    "\n",
    "    users ['Gender'] = users['Gender'].replace({'F' : 0, 'M': 1})\n",
    "\n",
    "    movies[['Title', 'Year']] = movies['Title'].str.extract(r'^(.*?)(?: \\((\\d{4})\\))?$')\n",
    "    movies['Year'] = movies['Year'].astype(int)\n",
    "    movies['Year'].fillna(0, inplace = True)\n",
    "\n",
    "    movies['Genre_List'] = movies['Genres'].apply(preprocess_genre)\n",
    "\n",
    "    for genre in tqdm(possible_genres):\n",
    "        movies[genre] = movies['Genre_List'].apply(lambda x: 1 if genre in x else 0)\n",
    "\n",
    "    movies['Title_List'] = movies['Title'].apply(preprocess_title)\n",
    "\n",
    "    movies['Title_Embedding'] = movies['Title_List'].apply(lambda x: compute_average_embedding(x, w2v_model))\n",
    "\n",
    "    return users, movies, ratings"
   ]
  },
  {
   "cell_type": "code",
   "execution_count": 106,
   "metadata": {},
   "outputs": [
    {
     "name": "stderr",
     "output_type": "stream",
     "text": [
      "/var/folders/3j/w1l38cfj2x1_r71n0krg1xnm0000gp/T/ipykernel_81460/2414873314.py:39: FutureWarning: Downcasting behavior in `replace` is deprecated and will be removed in a future version. To retain the old behavior, explicitly call `result.infer_objects(copy=False)`. To opt-in to the future behavior, set `pd.set_option('future.no_silent_downcasting', True)`\n",
      "  users ['Gender'] = users['Gender'].replace({'F' : 0, 'M': 1})\n",
      "/var/folders/3j/w1l38cfj2x1_r71n0krg1xnm0000gp/T/ipykernel_81460/2414873314.py:43: FutureWarning: A value is trying to be set on a copy of a DataFrame or Series through chained assignment using an inplace method.\n",
      "The behavior will change in pandas 3.0. This inplace method will never work because the intermediate object on which we are setting values always behaves as a copy.\n",
      "\n",
      "For example, when doing 'df[col].method(value, inplace=True)', try using 'df.method({col: value}, inplace=True)' or df[col] = df[col].method(value) instead, to perform the operation inplace on the original object.\n",
      "\n",
      "\n",
      "  movies['Year'].fillna(0, inplace = True)\n",
      "100%|██████████| 18/18 [00:00<00:00, 1566.27it/s]\n"
     ]
    }
   ],
   "source": [
    "train_users_transformed, train_movies_transformed, train_ratings_transformed = create_features(train_users.copy(),\n",
    "                                                                                               train_movies.copy(),\n",
    "                                                                                               train_ratings.copy())"
   ]
  },
  {
   "cell_type": "code",
   "execution_count": 107,
   "metadata": {},
   "outputs": [
    {
     "name": "stderr",
     "output_type": "stream",
     "text": [
      "/var/folders/3j/w1l38cfj2x1_r71n0krg1xnm0000gp/T/ipykernel_81460/2414873314.py:39: FutureWarning: Downcasting behavior in `replace` is deprecated and will be removed in a future version. To retain the old behavior, explicitly call `result.infer_objects(copy=False)`. To opt-in to the future behavior, set `pd.set_option('future.no_silent_downcasting', True)`\n",
      "  users ['Gender'] = users['Gender'].replace({'F' : 0, 'M': 1})\n",
      "/var/folders/3j/w1l38cfj2x1_r71n0krg1xnm0000gp/T/ipykernel_81460/2414873314.py:43: FutureWarning: A value is trying to be set on a copy of a DataFrame or Series through chained assignment using an inplace method.\n",
      "The behavior will change in pandas 3.0. This inplace method will never work because the intermediate object on which we are setting values always behaves as a copy.\n",
      "\n",
      "For example, when doing 'df[col].method(value, inplace=True)', try using 'df.method({col: value}, inplace=True)' or df[col] = df[col].method(value) instead, to perform the operation inplace on the original object.\n",
      "\n",
      "\n",
      "  movies['Year'].fillna(0, inplace = True)\n",
      "100%|██████████| 18/18 [00:00<00:00, 1075.39it/s]\n"
     ]
    }
   ],
   "source": [
    "test_users_transformed, test_movies_transformed, test_ratings_transformed = create_features(test_users.copy(),\n",
    "                                                                                            test_movies.copy(),\n",
    "                                                                                            test_ratings.copy())"
   ]
  },
  {
   "cell_type": "code",
   "execution_count": 13,
   "metadata": {},
   "outputs": [
    {
     "data": {
      "text/html": [
       "<div>\n",
       "<style scoped>\n",
       "    .dataframe tbody tr th:only-of-type {\n",
       "        vertical-align: middle;\n",
       "    }\n",
       "\n",
       "    .dataframe tbody tr th {\n",
       "        vertical-align: top;\n",
       "    }\n",
       "\n",
       "    .dataframe thead th {\n",
       "        text-align: right;\n",
       "    }\n",
       "</style>\n",
       "<table border=\"1\" class=\"dataframe\">\n",
       "  <thead>\n",
       "    <tr style=\"text-align: right;\">\n",
       "      <th></th>\n",
       "      <th>UserID</th>\n",
       "      <th>Gender</th>\n",
       "      <th>Age</th>\n",
       "      <th>Occupation</th>\n",
       "      <th>Zip-code</th>\n",
       "    </tr>\n",
       "  </thead>\n",
       "  <tbody>\n",
       "    <tr>\n",
       "      <th>0</th>\n",
       "      <td>0</td>\n",
       "      <td>0</td>\n",
       "      <td>1</td>\n",
       "      <td>10</td>\n",
       "      <td>48067</td>\n",
       "    </tr>\n",
       "    <tr>\n",
       "      <th>1</th>\n",
       "      <td>1</td>\n",
       "      <td>1</td>\n",
       "      <td>56</td>\n",
       "      <td>16</td>\n",
       "      <td>70072</td>\n",
       "    </tr>\n",
       "    <tr>\n",
       "      <th>2</th>\n",
       "      <td>2</td>\n",
       "      <td>1</td>\n",
       "      <td>25</td>\n",
       "      <td>15</td>\n",
       "      <td>55117</td>\n",
       "    </tr>\n",
       "    <tr>\n",
       "      <th>3</th>\n",
       "      <td>3</td>\n",
       "      <td>1</td>\n",
       "      <td>45</td>\n",
       "      <td>7</td>\n",
       "      <td>02460</td>\n",
       "    </tr>\n",
       "    <tr>\n",
       "      <th>4</th>\n",
       "      <td>4</td>\n",
       "      <td>1</td>\n",
       "      <td>25</td>\n",
       "      <td>20</td>\n",
       "      <td>55455</td>\n",
       "    </tr>\n",
       "    <tr>\n",
       "      <th>...</th>\n",
       "      <td>...</td>\n",
       "      <td>...</td>\n",
       "      <td>...</td>\n",
       "      <td>...</td>\n",
       "      <td>...</td>\n",
       "    </tr>\n",
       "    <tr>\n",
       "      <th>6000</th>\n",
       "      <td>1204</td>\n",
       "      <td>0</td>\n",
       "      <td>25</td>\n",
       "      <td>7</td>\n",
       "      <td>94117</td>\n",
       "    </tr>\n",
       "    <tr>\n",
       "      <th>6001</th>\n",
       "      <td>1205</td>\n",
       "      <td>1</td>\n",
       "      <td>50</td>\n",
       "      <td>0</td>\n",
       "      <td>43231</td>\n",
       "    </tr>\n",
       "    <tr>\n",
       "      <th>6015</th>\n",
       "      <td>1206</td>\n",
       "      <td>1</td>\n",
       "      <td>45</td>\n",
       "      <td>1</td>\n",
       "      <td>37209</td>\n",
       "    </tr>\n",
       "    <tr>\n",
       "      <th>6027</th>\n",
       "      <td>1207</td>\n",
       "      <td>1</td>\n",
       "      <td>18</td>\n",
       "      <td>4</td>\n",
       "      <td>94133</td>\n",
       "    </tr>\n",
       "    <tr>\n",
       "      <th>6039</th>\n",
       "      <td>1208</td>\n",
       "      <td>1</td>\n",
       "      <td>25</td>\n",
       "      <td>6</td>\n",
       "      <td>11106</td>\n",
       "    </tr>\n",
       "  </tbody>\n",
       "</table>\n",
       "<p>1209 rows × 5 columns</p>\n",
       "</div>"
      ],
      "text/plain": [
       "      UserID  Gender  Age  Occupation Zip-code\n",
       "0          0       0    1          10    48067\n",
       "1          1       1   56          16    70072\n",
       "2          2       1   25          15    55117\n",
       "3          3       1   45           7    02460\n",
       "4          4       1   25          20    55455\n",
       "...      ...     ...  ...         ...      ...\n",
       "6000    1204       0   25           7    94117\n",
       "6001    1205       1   50           0    43231\n",
       "6015    1206       1   45           1    37209\n",
       "6027    1207       1   18           4    94133\n",
       "6039    1208       1   25           6    11106\n",
       "\n",
       "[1209 rows x 5 columns]"
      ]
     },
     "execution_count": 13,
     "metadata": {},
     "output_type": "execute_result"
    }
   ],
   "source": [
    "test_users_transformed"
   ]
  },
  {
   "cell_type": "code",
   "execution_count": 122,
   "metadata": {},
   "outputs": [
    {
     "data": {
      "text/html": [
       "<div>\n",
       "<style scoped>\n",
       "    .dataframe tbody tr th:only-of-type {\n",
       "        vertical-align: middle;\n",
       "    }\n",
       "\n",
       "    .dataframe tbody tr th {\n",
       "        vertical-align: top;\n",
       "    }\n",
       "\n",
       "    .dataframe thead th {\n",
       "        text-align: right;\n",
       "    }\n",
       "</style>\n",
       "<table border=\"1\" class=\"dataframe\">\n",
       "  <thead>\n",
       "    <tr style=\"text-align: right;\">\n",
       "      <th></th>\n",
       "      <th>UserID</th>\n",
       "      <th>Gender</th>\n",
       "      <th>Age</th>\n",
       "      <th>Occupation</th>\n",
       "      <th>Zip-code</th>\n",
       "    </tr>\n",
       "  </thead>\n",
       "  <tbody>\n",
       "    <tr>\n",
       "      <th>23</th>\n",
       "      <td>0</td>\n",
       "      <td>0</td>\n",
       "      <td>25</td>\n",
       "      <td>7</td>\n",
       "      <td>10023</td>\n",
       "    </tr>\n",
       "    <tr>\n",
       "      <th>24</th>\n",
       "      <td>1</td>\n",
       "      <td>1</td>\n",
       "      <td>18</td>\n",
       "      <td>4</td>\n",
       "      <td>01609</td>\n",
       "    </tr>\n",
       "    <tr>\n",
       "      <th>25</th>\n",
       "      <td>2</td>\n",
       "      <td>1</td>\n",
       "      <td>25</td>\n",
       "      <td>7</td>\n",
       "      <td>23112</td>\n",
       "    </tr>\n",
       "    <tr>\n",
       "      <th>26</th>\n",
       "      <td>3</td>\n",
       "      <td>1</td>\n",
       "      <td>25</td>\n",
       "      <td>11</td>\n",
       "      <td>19130</td>\n",
       "    </tr>\n",
       "    <tr>\n",
       "      <th>27</th>\n",
       "      <td>4</td>\n",
       "      <td>0</td>\n",
       "      <td>25</td>\n",
       "      <td>1</td>\n",
       "      <td>14607</td>\n",
       "    </tr>\n",
       "    <tr>\n",
       "      <th>...</th>\n",
       "      <td>...</td>\n",
       "      <td>...</td>\n",
       "      <td>...</td>\n",
       "      <td>...</td>\n",
       "      <td>...</td>\n",
       "    </tr>\n",
       "    <tr>\n",
       "      <th>6035</th>\n",
       "      <td>6006</td>\n",
       "      <td>0</td>\n",
       "      <td>25</td>\n",
       "      <td>15</td>\n",
       "      <td>32603</td>\n",
       "    </tr>\n",
       "    <tr>\n",
       "      <th>6036</th>\n",
       "      <td>6007</td>\n",
       "      <td>0</td>\n",
       "      <td>45</td>\n",
       "      <td>1</td>\n",
       "      <td>76006</td>\n",
       "    </tr>\n",
       "    <tr>\n",
       "      <th>6037</th>\n",
       "      <td>6008</td>\n",
       "      <td>0</td>\n",
       "      <td>56</td>\n",
       "      <td>1</td>\n",
       "      <td>14706</td>\n",
       "    </tr>\n",
       "    <tr>\n",
       "      <th>6038</th>\n",
       "      <td>6009</td>\n",
       "      <td>0</td>\n",
       "      <td>45</td>\n",
       "      <td>0</td>\n",
       "      <td>01060</td>\n",
       "    </tr>\n",
       "    <tr>\n",
       "      <th>6039</th>\n",
       "      <td>6010</td>\n",
       "      <td>1</td>\n",
       "      <td>25</td>\n",
       "      <td>6</td>\n",
       "      <td>11106</td>\n",
       "    </tr>\n",
       "  </tbody>\n",
       "</table>\n",
       "<p>6011 rows × 5 columns</p>\n",
       "</div>"
      ],
      "text/plain": [
       "      UserID  Gender  Age  Occupation Zip-code\n",
       "23         0       0   25           7    10023\n",
       "24         1       1   18           4    01609\n",
       "25         2       1   25           7    23112\n",
       "26         3       1   25          11    19130\n",
       "27         4       0   25           1    14607\n",
       "...      ...     ...  ...         ...      ...\n",
       "6035    6006       0   25          15    32603\n",
       "6036    6007       0   45           1    76006\n",
       "6037    6008       0   56           1    14706\n",
       "6038    6009       0   45           0    01060\n",
       "6039    6010       1   25           6    11106\n",
       "\n",
       "[6011 rows x 5 columns]"
      ]
     },
     "execution_count": 122,
     "metadata": {},
     "output_type": "execute_result"
    }
   ],
   "source": [
    "train_users_transformed"
   ]
  },
  {
   "cell_type": "code",
   "execution_count": 123,
   "metadata": {},
   "outputs": [
    {
     "data": {
      "text/html": [
       "<div>\n",
       "<style scoped>\n",
       "    .dataframe tbody tr th:only-of-type {\n",
       "        vertical-align: middle;\n",
       "    }\n",
       "\n",
       "    .dataframe tbody tr th {\n",
       "        vertical-align: top;\n",
       "    }\n",
       "\n",
       "    .dataframe thead th {\n",
       "        text-align: right;\n",
       "    }\n",
       "</style>\n",
       "<table border=\"1\" class=\"dataframe\">\n",
       "  <thead>\n",
       "    <tr style=\"text-align: right;\">\n",
       "      <th></th>\n",
       "      <th>MovieID</th>\n",
       "      <th>Title</th>\n",
       "      <th>Genres</th>\n",
       "      <th>Year</th>\n",
       "      <th>Genre_List</th>\n",
       "      <th>action</th>\n",
       "      <th>adventure</th>\n",
       "      <th>animation</th>\n",
       "      <th>children's</th>\n",
       "      <th>comedy</th>\n",
       "      <th>...</th>\n",
       "      <th>horror</th>\n",
       "      <th>musical</th>\n",
       "      <th>mystery</th>\n",
       "      <th>romance</th>\n",
       "      <th>sci-fi</th>\n",
       "      <th>thriller</th>\n",
       "      <th>war</th>\n",
       "      <th>western</th>\n",
       "      <th>Title_List</th>\n",
       "      <th>Title_Embedding</th>\n",
       "    </tr>\n",
       "  </thead>\n",
       "  <tbody>\n",
       "    <tr>\n",
       "      <th>0</th>\n",
       "      <td>0</td>\n",
       "      <td>Toy Story</td>\n",
       "      <td>Animation|Children's|Comedy</td>\n",
       "      <td>1995</td>\n",
       "      <td>[animation, children's, comedy]</td>\n",
       "      <td>0</td>\n",
       "      <td>0</td>\n",
       "      <td>1</td>\n",
       "      <td>1</td>\n",
       "      <td>1</td>\n",
       "      <td>...</td>\n",
       "      <td>0</td>\n",
       "      <td>0</td>\n",
       "      <td>0</td>\n",
       "      <td>0</td>\n",
       "      <td>0</td>\n",
       "      <td>0</td>\n",
       "      <td>0</td>\n",
       "      <td>0</td>\n",
       "      <td>[toy, story]</td>\n",
       "      <td>[0.135498046875, 0.09771728515625, -0.06188964...</td>\n",
       "    </tr>\n",
       "    <tr>\n",
       "      <th>1</th>\n",
       "      <td>1</td>\n",
       "      <td>Jumanji</td>\n",
       "      <td>Adventure|Children's|Fantasy</td>\n",
       "      <td>1995</td>\n",
       "      <td>[adventure, children's, fantasy]</td>\n",
       "      <td>0</td>\n",
       "      <td>1</td>\n",
       "      <td>0</td>\n",
       "      <td>1</td>\n",
       "      <td>0</td>\n",
       "      <td>...</td>\n",
       "      <td>0</td>\n",
       "      <td>0</td>\n",
       "      <td>0</td>\n",
       "      <td>0</td>\n",
       "      <td>0</td>\n",
       "      <td>0</td>\n",
       "      <td>0</td>\n",
       "      <td>0</td>\n",
       "      <td>[jumanji]</td>\n",
       "      <td>[0.0, 0.0, 0.0, 0.0, 0.0, 0.0, 0.0, 0.0, 0.0, ...</td>\n",
       "    </tr>\n",
       "    <tr>\n",
       "      <th>2</th>\n",
       "      <td>2</td>\n",
       "      <td>Grumpier Old Men</td>\n",
       "      <td>Comedy|Romance</td>\n",
       "      <td>1995</td>\n",
       "      <td>[comedy, romance]</td>\n",
       "      <td>0</td>\n",
       "      <td>0</td>\n",
       "      <td>0</td>\n",
       "      <td>0</td>\n",
       "      <td>1</td>\n",
       "      <td>...</td>\n",
       "      <td>0</td>\n",
       "      <td>0</td>\n",
       "      <td>0</td>\n",
       "      <td>1</td>\n",
       "      <td>0</td>\n",
       "      <td>0</td>\n",
       "      <td>0</td>\n",
       "      <td>0</td>\n",
       "      <td>[grumpier, old, men]</td>\n",
       "      <td>[0.1028645858168602, 0.1243489608168602, 0.065...</td>\n",
       "    </tr>\n",
       "    <tr>\n",
       "      <th>3</th>\n",
       "      <td>3</td>\n",
       "      <td>Waiting to Exhale</td>\n",
       "      <td>Comedy|Drama</td>\n",
       "      <td>1995</td>\n",
       "      <td>[comedy, drama]</td>\n",
       "      <td>0</td>\n",
       "      <td>0</td>\n",
       "      <td>0</td>\n",
       "      <td>0</td>\n",
       "      <td>1</td>\n",
       "      <td>...</td>\n",
       "      <td>0</td>\n",
       "      <td>0</td>\n",
       "      <td>0</td>\n",
       "      <td>0</td>\n",
       "      <td>0</td>\n",
       "      <td>0</td>\n",
       "      <td>0</td>\n",
       "      <td>0</td>\n",
       "      <td>[waiting, exhale]</td>\n",
       "      <td>[0.12060546875, 0.0087890625, 0.29052734375, 0...</td>\n",
       "    </tr>\n",
       "    <tr>\n",
       "      <th>4</th>\n",
       "      <td>4</td>\n",
       "      <td>Father of the Bride Part II</td>\n",
       "      <td>Comedy</td>\n",
       "      <td>1995</td>\n",
       "      <td>[comedy]</td>\n",
       "      <td>0</td>\n",
       "      <td>0</td>\n",
       "      <td>0</td>\n",
       "      <td>0</td>\n",
       "      <td>1</td>\n",
       "      <td>...</td>\n",
       "      <td>0</td>\n",
       "      <td>0</td>\n",
       "      <td>0</td>\n",
       "      <td>0</td>\n",
       "      <td>0</td>\n",
       "      <td>0</td>\n",
       "      <td>0</td>\n",
       "      <td>0</td>\n",
       "      <td>[father, bride, ii]</td>\n",
       "      <td>[-0.0677083358168602, -0.0944010391831398, 0.0...</td>\n",
       "    </tr>\n",
       "    <tr>\n",
       "      <th>...</th>\n",
       "      <td>...</td>\n",
       "      <td>...</td>\n",
       "      <td>...</td>\n",
       "      <td>...</td>\n",
       "      <td>...</td>\n",
       "      <td>...</td>\n",
       "      <td>...</td>\n",
       "      <td>...</td>\n",
       "      <td>...</td>\n",
       "      <td>...</td>\n",
       "      <td>...</td>\n",
       "      <td>...</td>\n",
       "      <td>...</td>\n",
       "      <td>...</td>\n",
       "      <td>...</td>\n",
       "      <td>...</td>\n",
       "      <td>...</td>\n",
       "      <td>...</td>\n",
       "      <td>...</td>\n",
       "      <td>...</td>\n",
       "      <td>...</td>\n",
       "    </tr>\n",
       "    <tr>\n",
       "      <th>3878</th>\n",
       "      <td>3673</td>\n",
       "      <td>Meet the Parents</td>\n",
       "      <td>Comedy</td>\n",
       "      <td>2000</td>\n",
       "      <td>[comedy]</td>\n",
       "      <td>0</td>\n",
       "      <td>0</td>\n",
       "      <td>0</td>\n",
       "      <td>0</td>\n",
       "      <td>1</td>\n",
       "      <td>...</td>\n",
       "      <td>0</td>\n",
       "      <td>0</td>\n",
       "      <td>0</td>\n",
       "      <td>0</td>\n",
       "      <td>0</td>\n",
       "      <td>0</td>\n",
       "      <td>0</td>\n",
       "      <td>0</td>\n",
       "      <td>[meet, parents]</td>\n",
       "      <td>[-0.194091796875, -0.03369140625, 0.0590820312...</td>\n",
       "    </tr>\n",
       "    <tr>\n",
       "      <th>3879</th>\n",
       "      <td>3674</td>\n",
       "      <td>Requiem for a Dream</td>\n",
       "      <td>Drama</td>\n",
       "      <td>2000</td>\n",
       "      <td>[drama]</td>\n",
       "      <td>0</td>\n",
       "      <td>0</td>\n",
       "      <td>0</td>\n",
       "      <td>0</td>\n",
       "      <td>0</td>\n",
       "      <td>...</td>\n",
       "      <td>0</td>\n",
       "      <td>0</td>\n",
       "      <td>0</td>\n",
       "      <td>0</td>\n",
       "      <td>0</td>\n",
       "      <td>0</td>\n",
       "      <td>0</td>\n",
       "      <td>0</td>\n",
       "      <td>[requiem, dream]</td>\n",
       "      <td>[0.048095703125, -0.06427001953125, 0.12304687...</td>\n",
       "    </tr>\n",
       "    <tr>\n",
       "      <th>3880</th>\n",
       "      <td>3675</td>\n",
       "      <td>Tigerland</td>\n",
       "      <td>Drama</td>\n",
       "      <td>2000</td>\n",
       "      <td>[drama]</td>\n",
       "      <td>0</td>\n",
       "      <td>0</td>\n",
       "      <td>0</td>\n",
       "      <td>0</td>\n",
       "      <td>0</td>\n",
       "      <td>...</td>\n",
       "      <td>0</td>\n",
       "      <td>0</td>\n",
       "      <td>0</td>\n",
       "      <td>0</td>\n",
       "      <td>0</td>\n",
       "      <td>0</td>\n",
       "      <td>0</td>\n",
       "      <td>0</td>\n",
       "      <td>[tigerland]</td>\n",
       "      <td>[0.0, 0.0, 0.0, 0.0, 0.0, 0.0, 0.0, 0.0, 0.0, ...</td>\n",
       "    </tr>\n",
       "    <tr>\n",
       "      <th>3881</th>\n",
       "      <td>3676</td>\n",
       "      <td>Two Family House</td>\n",
       "      <td>Drama</td>\n",
       "      <td>2000</td>\n",
       "      <td>[drama]</td>\n",
       "      <td>0</td>\n",
       "      <td>0</td>\n",
       "      <td>0</td>\n",
       "      <td>0</td>\n",
       "      <td>0</td>\n",
       "      <td>...</td>\n",
       "      <td>0</td>\n",
       "      <td>0</td>\n",
       "      <td>0</td>\n",
       "      <td>0</td>\n",
       "      <td>0</td>\n",
       "      <td>0</td>\n",
       "      <td>0</td>\n",
       "      <td>0</td>\n",
       "      <td>[family, house]</td>\n",
       "      <td>[0.0692138671875, -0.094482421875, -0.04479980...</td>\n",
       "    </tr>\n",
       "    <tr>\n",
       "      <th>3882</th>\n",
       "      <td>3677</td>\n",
       "      <td>Contender, The</td>\n",
       "      <td>Drama|Thriller</td>\n",
       "      <td>2000</td>\n",
       "      <td>[drama, thriller]</td>\n",
       "      <td>0</td>\n",
       "      <td>0</td>\n",
       "      <td>0</td>\n",
       "      <td>0</td>\n",
       "      <td>0</td>\n",
       "      <td>...</td>\n",
       "      <td>0</td>\n",
       "      <td>0</td>\n",
       "      <td>0</td>\n",
       "      <td>0</td>\n",
       "      <td>0</td>\n",
       "      <td>1</td>\n",
       "      <td>0</td>\n",
       "      <td>0</td>\n",
       "      <td>[contender]</td>\n",
       "      <td>[0.033203125, -0.03076171875, -0.0167236328125...</td>\n",
       "    </tr>\n",
       "  </tbody>\n",
       "</table>\n",
       "<p>3678 rows × 25 columns</p>\n",
       "</div>"
      ],
      "text/plain": [
       "      MovieID                        Title                        Genres  \\\n",
       "0           0                    Toy Story   Animation|Children's|Comedy   \n",
       "1           1                      Jumanji  Adventure|Children's|Fantasy   \n",
       "2           2             Grumpier Old Men                Comedy|Romance   \n",
       "3           3            Waiting to Exhale                  Comedy|Drama   \n",
       "4           4  Father of the Bride Part II                        Comedy   \n",
       "...       ...                          ...                           ...   \n",
       "3878     3673             Meet the Parents                        Comedy   \n",
       "3879     3674          Requiem for a Dream                         Drama   \n",
       "3880     3675                    Tigerland                         Drama   \n",
       "3881     3676             Two Family House                         Drama   \n",
       "3882     3677               Contender, The                Drama|Thriller   \n",
       "\n",
       "      Year                        Genre_List  action  adventure  animation  \\\n",
       "0     1995   [animation, children's, comedy]       0          0          1   \n",
       "1     1995  [adventure, children's, fantasy]       0          1          0   \n",
       "2     1995                 [comedy, romance]       0          0          0   \n",
       "3     1995                   [comedy, drama]       0          0          0   \n",
       "4     1995                          [comedy]       0          0          0   \n",
       "...    ...                               ...     ...        ...        ...   \n",
       "3878  2000                          [comedy]       0          0          0   \n",
       "3879  2000                           [drama]       0          0          0   \n",
       "3880  2000                           [drama]       0          0          0   \n",
       "3881  2000                           [drama]       0          0          0   \n",
       "3882  2000                 [drama, thriller]       0          0          0   \n",
       "\n",
       "      children's  comedy  ...  horror  musical  mystery  romance  sci-fi  \\\n",
       "0              1       1  ...       0        0        0        0       0   \n",
       "1              1       0  ...       0        0        0        0       0   \n",
       "2              0       1  ...       0        0        0        1       0   \n",
       "3              0       1  ...       0        0        0        0       0   \n",
       "4              0       1  ...       0        0        0        0       0   \n",
       "...          ...     ...  ...     ...      ...      ...      ...     ...   \n",
       "3878           0       1  ...       0        0        0        0       0   \n",
       "3879           0       0  ...       0        0        0        0       0   \n",
       "3880           0       0  ...       0        0        0        0       0   \n",
       "3881           0       0  ...       0        0        0        0       0   \n",
       "3882           0       0  ...       0        0        0        0       0   \n",
       "\n",
       "      thriller  war  western            Title_List  \\\n",
       "0            0    0        0          [toy, story]   \n",
       "1            0    0        0             [jumanji]   \n",
       "2            0    0        0  [grumpier, old, men]   \n",
       "3            0    0        0     [waiting, exhale]   \n",
       "4            0    0        0   [father, bride, ii]   \n",
       "...        ...  ...      ...                   ...   \n",
       "3878         0    0        0       [meet, parents]   \n",
       "3879         0    0        0      [requiem, dream]   \n",
       "3880         0    0        0           [tigerland]   \n",
       "3881         0    0        0       [family, house]   \n",
       "3882         1    0        0           [contender]   \n",
       "\n",
       "                                        Title_Embedding  \n",
       "0     [0.135498046875, 0.09771728515625, -0.06188964...  \n",
       "1     [0.0, 0.0, 0.0, 0.0, 0.0, 0.0, 0.0, 0.0, 0.0, ...  \n",
       "2     [0.1028645858168602, 0.1243489608168602, 0.065...  \n",
       "3     [0.12060546875, 0.0087890625, 0.29052734375, 0...  \n",
       "4     [-0.0677083358168602, -0.0944010391831398, 0.0...  \n",
       "...                                                 ...  \n",
       "3878  [-0.194091796875, -0.03369140625, 0.0590820312...  \n",
       "3879  [0.048095703125, -0.06427001953125, 0.12304687...  \n",
       "3880  [0.0, 0.0, 0.0, 0.0, 0.0, 0.0, 0.0, 0.0, 0.0, ...  \n",
       "3881  [0.0692138671875, -0.094482421875, -0.04479980...  \n",
       "3882  [0.033203125, -0.03076171875, -0.0167236328125...  \n",
       "\n",
       "[3678 rows x 25 columns]"
      ]
     },
     "execution_count": 123,
     "metadata": {},
     "output_type": "execute_result"
    }
   ],
   "source": [
    "train_movies_transformed"
   ]
  },
  {
   "cell_type": "markdown",
   "metadata": {},
   "source": [
    "### Create Graph\n",
    "\n",
    "Create graph from the training data and split into train and val graph \n",
    "- train_prop - 0.9\n",
    "- val_prop - 0.1"
   ]
  },
  {
   "cell_type": "code",
   "execution_count": 124,
   "metadata": {},
   "outputs": [],
   "source": [
    "def create_graph(users, movies, ratings):\n",
    "    # create users features\n",
    "    user_feat = torch.tensor(users[['Gender', 'Age', 'Occupation']].values, dtype=torch.float)\n",
    "    movie_feat = torch.tensor(torch.hstack([torch.tensor(movies[['Year'] + [genre for genre in possible_genres]].values), \n",
    "                               torch.tensor(movies['Title_Embedding'].values.tolist())]), dtype=torch.float)\n",
    "    edge_index_user_to_movie = torch.tensor(ratings[['UserID', 'MovieID']].values.T)\n",
    "    edge_label_user_to_movie = torch.tensor(ratings['Rating'].values - 1, dtype=torch.long)\n",
    "    print(edge_label_user_to_movie.unique())\n",
    "    data = HeteroData()\n",
    "    data[\"user\"].node_id = torch.arange(users['UserID'].nunique())\n",
    "    data[\"movie\"].node_id = torch.arange(movies['MovieID'].nunique())\n",
    "    data['user'].x = user_feat\n",
    "    data['movie'].x = movie_feat\n",
    "    data['user', 'rates', 'movie'].edge_index = edge_index_user_to_movie\n",
    "    data['user', 'rates', 'movie'].edge_label = edge_label_user_to_movie\n",
    "    data[\"movie\", \"rev_rates\", \"user\"].edge_index = edge_index_user_to_movie.flip(0)\n",
    "    data['movie', 'rev_rates', 'user'].edge_label = edge_label_user_to_movie\n",
    "    return data"
   ]
  },
  {
   "cell_type": "code",
   "execution_count": 125,
   "metadata": {},
   "outputs": [
    {
     "name": "stdout",
     "output_type": "stream",
     "text": [
      "tensor([0, 1, 2, 3, 4])\n"
     ]
    },
    {
     "name": "stderr",
     "output_type": "stream",
     "text": [
      "/var/folders/3j/w1l38cfj2x1_r71n0krg1xnm0000gp/T/ipykernel_81460/3394088340.py:4: UserWarning: To copy construct from a tensor, it is recommended to use sourceTensor.clone().detach() or sourceTensor.clone().detach().requires_grad_(True), rather than torch.tensor(sourceTensor).\n",
      "  movie_feat = torch.tensor(torch.hstack([torch.tensor(movies[['Year'] + [genre for genre in possible_genres]].values),\n"
     ]
    },
    {
     "data": {
      "text/plain": [
       "HeteroData(\n",
       "  user={\n",
       "    node_id=[6011],\n",
       "    x=[6011, 3],\n",
       "  },\n",
       "  movie={\n",
       "    node_id=[3678],\n",
       "    x=[3678, 319],\n",
       "  },\n",
       "  (user, rates, movie)={\n",
       "    edge_index=[2, 900189],\n",
       "    edge_label=[900189],\n",
       "  },\n",
       "  (movie, rev_rates, user)={\n",
       "    edge_index=[2, 900189],\n",
       "    edge_label=[900189],\n",
       "  }\n",
       ")"
      ]
     },
     "execution_count": 125,
     "metadata": {},
     "output_type": "execute_result"
    }
   ],
   "source": [
    "train_graph = create_graph(train_users_transformed,\n",
    "                           train_movies_transformed,\n",
    "                           train_ratings_transformed)\n",
    "\n",
    "train_graph"
   ]
  },
  {
   "cell_type": "code",
   "execution_count": 126,
   "metadata": {},
   "outputs": [
    {
     "data": {
      "text/plain": [
       "tensor([[6010, 6010, 6010,  ...,    0,    0,    0],\n",
       "        [ 794, 2175,  576,  ...,  568, 2463,  452]])"
      ]
     },
     "execution_count": 126,
     "metadata": {},
     "output_type": "execute_result"
    }
   ],
   "source": [
    "train_graph[('user', 'rates', 'movie')].edge_index"
   ]
  },
  {
   "cell_type": "code",
   "execution_count": 117,
   "metadata": {},
   "outputs": [
    {
     "data": {
      "text/plain": [
       "tensor([3, 3, 4,  ..., 3, 3, 3])"
      ]
     },
     "execution_count": 117,
     "metadata": {},
     "output_type": "execute_result"
    }
   ],
   "source": [
    "train_graph[('user', 'rates', 'movie')].edge_label"
   ]
  },
  {
   "cell_type": "code",
   "execution_count": 112,
   "metadata": {},
   "outputs": [
    {
     "data": {
      "text/plain": [
       "tensor([[ 794, 2175,  576,  ...,  568, 2463,  452],\n",
       "        [6010, 6010, 6010,  ...,    0,    0,    0]])"
      ]
     },
     "execution_count": 112,
     "metadata": {},
     "output_type": "execute_result"
    }
   ],
   "source": [
    "train_graph[('movie', 'rev_rates', 'user')].edge_index"
   ]
  },
  {
   "cell_type": "code",
   "execution_count": 115,
   "metadata": {},
   "outputs": [
    {
     "data": {
      "text/html": [
       "<div>\n",
       "<style scoped>\n",
       "    .dataframe tbody tr th:only-of-type {\n",
       "        vertical-align: middle;\n",
       "    }\n",
       "\n",
       "    .dataframe tbody tr th {\n",
       "        vertical-align: top;\n",
       "    }\n",
       "\n",
       "    .dataframe thead th {\n",
       "        text-align: right;\n",
       "    }\n",
       "</style>\n",
       "<table border=\"1\" class=\"dataframe\">\n",
       "  <thead>\n",
       "    <tr style=\"text-align: right;\">\n",
       "      <th></th>\n",
       "      <th>UserID</th>\n",
       "      <th>MovieID</th>\n",
       "      <th>Rating</th>\n",
       "      <th>Timestamp</th>\n",
       "    </tr>\n",
       "  </thead>\n",
       "  <tbody>\n",
       "    <tr>\n",
       "      <th>0</th>\n",
       "      <td>6010</td>\n",
       "      <td>794</td>\n",
       "      <td>4</td>\n",
       "      <td>956703932</td>\n",
       "    </tr>\n",
       "  </tbody>\n",
       "</table>\n",
       "</div>"
      ],
      "text/plain": [
       "   UserID  MovieID  Rating  Timestamp\n",
       "0    6010      794       4  956703932"
      ]
     },
     "execution_count": 115,
     "metadata": {},
     "output_type": "execute_result"
    }
   ],
   "source": [
    "train_ratings_transformed[(train_ratings_transformed['UserID'] == 6010) & (train_ratings_transformed['MovieID'] == 794)]\n"
   ]
  },
  {
   "cell_type": "code",
   "execution_count": 145,
   "metadata": {},
   "outputs": [],
   "source": [
    "transform = T.RandomLinkSplit(\n",
    "    num_val=0.1,  # 10% validation edges\n",
    "    num_test = 0,\n",
    "    disjoint_train_ratio=0.3,  # 30% of training edges used for supervision\n",
    "    edge_types=(\"user\", \"rates\", \"movie\"),  # Edge type\n",
    "    rev_edge_types=(\"movie\", \"rev_rates\", \"user\"),  # Reverse edge type\n",
    "    add_negative_train_samples = False # no negative samples as edges are determined solely on the ratings\n",
    ")\n",
    "\n",
    "train_data, val_data, test_data = transform(train_graph)"
   ]
  },
  {
   "cell_type": "code",
   "execution_count": 146,
   "metadata": {},
   "outputs": [
    {
     "data": {
      "text/plain": [
       "HeteroData(\n",
       "  user={\n",
       "    node_id=[6011],\n",
       "    x=[6011, 3],\n",
       "  },\n",
       "  movie={\n",
       "    node_id=[3678],\n",
       "    x=[3678, 319],\n",
       "  },\n",
       "  (user, rates, movie)={\n",
       "    edge_index=[2, 567120],\n",
       "    edge_label=[243051],\n",
       "    edge_label_index=[2, 243051],\n",
       "  },\n",
       "  (movie, rev_rates, user)={\n",
       "    edge_index=[2, 567120],\n",
       "    edge_label=[567120],\n",
       "  }\n",
       ")"
      ]
     },
     "execution_count": 146,
     "metadata": {},
     "output_type": "execute_result"
    }
   ],
   "source": [
    "train_data"
   ]
  },
  {
   "cell_type": "code",
   "execution_count": 147,
   "metadata": {},
   "outputs": [
    {
     "data": {
      "text/plain": [
       "tensor([   0,    1,    2,  ..., 3675, 3676, 3677])"
      ]
     },
     "execution_count": 147,
     "metadata": {},
     "output_type": "execute_result"
    }
   ],
   "source": [
    "train_data['movie'].node_id"
   ]
  },
  {
   "cell_type": "code",
   "execution_count": 148,
   "metadata": {},
   "outputs": [
    {
     "data": {
      "text/plain": [
       "tensor([[2882,  386, 4972,  ..., 4139, 1276,   24],\n",
       "        [2309, 3650, 3164,  ..., 1753, 1489,  752]])"
      ]
     },
     "execution_count": 148,
     "metadata": {},
     "output_type": "execute_result"
    }
   ],
   "source": [
    "train_data[('user', 'rates', 'movie')].edge_index"
   ]
  },
  {
   "cell_type": "code",
   "execution_count": 149,
   "metadata": {},
   "outputs": [
    {
     "data": {
      "text/plain": [
       "tensor([[1753, 2441, 1671,  ..., 5506,  326, 2235],\n",
       "        [2586,  575, 2742,  ..., 1790, 2583, 2067]])"
      ]
     },
     "execution_count": 149,
     "metadata": {},
     "output_type": "execute_result"
    }
   ],
   "source": [
    "train_data[('user', 'rates', 'movie')].edge_label_index"
   ]
  },
  {
   "cell_type": "code",
   "execution_count": 154,
   "metadata": {},
   "outputs": [
    {
     "data": {
      "text/plain": [
       "tensor([1, 3, 3,  ..., 2, 3, 3])"
      ]
     },
     "execution_count": 154,
     "metadata": {},
     "output_type": "execute_result"
    }
   ],
   "source": [
    "train_data[('user', 'rates', 'movie')].edge_label"
   ]
  },
  {
   "cell_type": "code",
   "execution_count": 153,
   "metadata": {},
   "outputs": [
    {
     "data": {
      "text/html": [
       "<div>\n",
       "<style scoped>\n",
       "    .dataframe tbody tr th:only-of-type {\n",
       "        vertical-align: middle;\n",
       "    }\n",
       "\n",
       "    .dataframe tbody tr th {\n",
       "        vertical-align: top;\n",
       "    }\n",
       "\n",
       "    .dataframe thead th {\n",
       "        text-align: right;\n",
       "    }\n",
       "</style>\n",
       "<table border=\"1\" class=\"dataframe\">\n",
       "  <thead>\n",
       "    <tr style=\"text-align: right;\">\n",
       "      <th></th>\n",
       "      <th>UserID</th>\n",
       "      <th>MovieID</th>\n",
       "      <th>Rating</th>\n",
       "      <th>Timestamp</th>\n",
       "    </tr>\n",
       "  </thead>\n",
       "  <tbody>\n",
       "    <tr>\n",
       "      <th>619277</th>\n",
       "      <td>1753</td>\n",
       "      <td>2586</td>\n",
       "      <td>2</td>\n",
       "      <td>974705975</td>\n",
       "    </tr>\n",
       "  </tbody>\n",
       "</table>\n",
       "</div>"
      ],
      "text/plain": [
       "        UserID  MovieID  Rating  Timestamp\n",
       "619277    1753     2586       2  974705975"
      ]
     },
     "execution_count": 153,
     "metadata": {},
     "output_type": "execute_result"
    }
   ],
   "source": [
    "train_ratings_transformed[(train_ratings_transformed['UserID'] == 1753) \n",
    "                          & (train_ratings_transformed['MovieID'] == 2586)] "
   ]
  },
  {
   "cell_type": "code",
   "execution_count": 155,
   "metadata": {},
   "outputs": [
    {
     "name": "stdout",
     "output_type": "stream",
     "text": [
      "Unique edge labels: tensor([0, 1, 2, 3, 4])\n"
     ]
    }
   ],
   "source": [
    "unique_labels = train_data[(\"user\", \"rates\", \"movie\")].edge_label.unique()\n",
    "print(\"Unique edge labels:\", unique_labels)"
   ]
  },
  {
   "cell_type": "code",
   "execution_count": 156,
   "metadata": {},
   "outputs": [
    {
     "name": "stdout",
     "output_type": "stream",
     "text": [
      "Reverse edge labels:\n",
      "tensor([0, 1, 2, 3, 4])\n"
     ]
    }
   ],
   "source": [
    "print(\"Reverse edge labels:\")\n",
    "print(train_data[(\"movie\", \"rev_rates\", \"user\")].edge_label.unique())"
   ]
  },
  {
   "cell_type": "code",
   "execution_count": 157,
   "metadata": {},
   "outputs": [
    {
     "name": "stdout",
     "output_type": "stream",
     "text": [
      "Original edge labels in train_graph:\n",
      "tensor([0, 1, 2, 3, 4])\n"
     ]
    }
   ],
   "source": [
    "print(\"Original edge labels in train_graph:\")\n",
    "print(train_graph[(\"user\", \"rates\", \"movie\")].edge_label.unique())"
   ]
  },
  {
   "cell_type": "code",
   "execution_count": 158,
   "metadata": {},
   "outputs": [
    {
     "name": "stdout",
     "output_type": "stream",
     "text": [
      "Edge labels in training set:\n",
      "tensor([1, 3, 3,  ..., 2, 3, 3])\n",
      "Edge labels in validation set:\n",
      "tensor([5, 3, 3,  ..., 0, 0, 0])\n"
     ]
    }
   ],
   "source": [
    "print(\"Edge labels in training set:\")\n",
    "print(train_data[(\"user\", \"rates\", \"movie\")].edge_label)\n",
    "\n",
    "print(\"Edge labels in validation set:\")\n",
    "print(val_data[(\"user\", \"rates\", \"movie\")].edge_label)"
   ]
  },
  {
   "cell_type": "code",
   "execution_count": 159,
   "metadata": {},
   "outputs": [
    {
     "data": {
      "text/plain": [
       "{'edge_index': tensor([[1753, 2441, 1671,  ..., 4139, 1276,   24],\n",
       "        [2586,  575, 2742,  ..., 1753, 1489,  752]]), 'edge_label': tensor([5, 3, 3,  ..., 0, 0, 0]), 'edge_label_index': tensor([[2545,  692, 4183,  ..., 1265, 1652, 3066],\n",
       "        [1122, 3299, 1438,  ..., 3533, 1666, 1889]])}"
      ]
     },
     "execution_count": 159,
     "metadata": {},
     "output_type": "execute_result"
    }
   ],
   "source": [
    "val_data[('user', 'rates', 'movie')]"
   ]
  },
  {
   "cell_type": "markdown",
   "metadata": {},
   "source": [
    "### Create Mini Batches\n",
    "- use linkneighbourloader "
   ]
  },
  {
   "cell_type": "code",
   "execution_count": 160,
   "metadata": {},
   "outputs": [
    {
     "name": "stdout",
     "output_type": "stream",
     "text": [
      "Sampled mini-batch:\n",
      "===================\n",
      "HeteroData(\n",
      "  user={\n",
      "    node_id=[4062],\n",
      "    x=[4062, 3],\n",
      "    n_id=[4062],\n",
      "    num_sampled_nodes=[3],\n",
      "  },\n",
      "  movie={\n",
      "    node_id=[2544],\n",
      "    x=[2544, 319],\n",
      "    n_id=[2544],\n",
      "    num_sampled_nodes=[3],\n",
      "  },\n",
      "  (user, rates, movie)={\n",
      "    edge_index=[2, 14337],\n",
      "    edge_label=[128],\n",
      "    edge_label_index=[2, 128],\n",
      "    e_id=[14337],\n",
      "    num_sampled_edges=[2],\n",
      "    input_id=[128],\n",
      "  },\n",
      "  (movie, rev_rates, user)={\n",
      "    edge_index=[2, 18510],\n",
      "    edge_label=[18510],\n",
      "    e_id=[18510],\n",
      "    num_sampled_edges=[2],\n",
      "  }\n",
      ")\n"
     ]
    }
   ],
   "source": [
    "# Define seed edges:\n",
    "edge_label_index = train_data[\"user\", \"rates\", \"movie\"].edge_label_index\n",
    "edge_label = train_data[\"user\", \"rates\", \"movie\"].edge_label\n",
    "\n",
    "# Define the LinkNeighborLoader\n",
    "train_loader = LinkNeighborLoader(\n",
    "    data=train_data,  # Use the training data\n",
    "    num_neighbors=[20, 10],  # 20 neighbors in the first hop, 10 in the second hop\n",
    "    edge_label_index=((\"user\", \"rates\", \"movie\"), edge_label_index),  # Edge type and indices\n",
    "    edge_label=edge_label,  # Labels for the edges\n",
    "    batch_size=128,  # Batch size\n",
    "    shuffle=True,  # Shuffle the data during training\n",
    ")\n",
    "\n",
    "# Inspect a sample:\n",
    "sampled_data = next(iter(train_loader))\n",
    "\n",
    "print(\"Sampled mini-batch:\")\n",
    "print(\"===================\")\n",
    "print(sampled_data)\n",
    "# print(f\"{sampled_data[('user', 'rates', 'movie')].edge_label}\")"
   ]
  },
  {
   "cell_type": "code",
   "execution_count": 161,
   "metadata": {},
   "outputs": [
    {
     "data": {
      "text/plain": [
       "torch.Size([4062, 3])"
      ]
     },
     "execution_count": 161,
     "metadata": {},
     "output_type": "execute_result"
    }
   ],
   "source": [
    "sampled_data['user'].x.shape "
   ]
  },
  {
   "cell_type": "code",
   "execution_count": 162,
   "metadata": {},
   "outputs": [
    {
     "data": {
      "text/plain": [
       "tensor([  29,   42,   93,  ..., 5316, 4215, 2536])"
      ]
     },
     "execution_count": 162,
     "metadata": {},
     "output_type": "execute_result"
    }
   ],
   "source": [
    "sampled_data['user'].node_id"
   ]
  },
  {
   "cell_type": "code",
   "execution_count": 163,
   "metadata": {},
   "outputs": [
    {
     "data": {
      "text/plain": [
       "tensor([[ 125,  126,  127,  ..., 1071, 2222, 1902],\n",
       "        [   0,    0,    0,  ..., 1320, 1320, 1320]])"
      ]
     },
     "execution_count": 163,
     "metadata": {},
     "output_type": "execute_result"
    }
   ],
   "source": [
    "edge_index_sampled = sampled_data[('user', 'rates', 'movie')]['edge_index']\n",
    "edge_index_sampled"
   ]
  },
  {
   "cell_type": "code",
   "execution_count": 164,
   "metadata": {},
   "outputs": [
    {
     "data": {
      "text/plain": [
       "tensor([263888, 173080, 514548,  ..., 453852, 362991, 180020])"
      ]
     },
     "execution_count": 164,
     "metadata": {},
     "output_type": "execute_result"
    }
   ],
   "source": [
    "e_id_sampled = sampled_data[('user', 'rates', 'movie')]['e_id']\n",
    "e_id_sampled"
   ]
  },
  {
   "cell_type": "code",
   "execution_count": 167,
   "metadata": {},
   "outputs": [
    {
     "data": {
      "text/plain": [
       "tensor([2, 3, 4, 2, 4, 4, 2, 2, 4, 2, 3, 2, 3, 3, 2, 2, 2, 4, 0, 4, 3, 4, 3, 2,\n",
       "        3, 4, 2, 1, 3, 3, 2, 2, 3, 3, 3, 2, 2, 4, 1, 2, 2, 2, 3, 4, 0, 3, 4, 3,\n",
       "        2, 3, 2, 4, 2, 2, 3, 3, 4, 2, 2, 4, 3, 3, 3, 4, 1, 0, 2, 4, 3, 4, 4, 4,\n",
       "        3, 2, 3, 3, 3, 3, 4, 2, 3, 1, 4, 1, 0, 4, 3, 4, 3, 0, 3, 2, 2, 3, 4, 3,\n",
       "        3, 1, 3, 4, 3, 4, 2, 4, 2, 3, 3, 3, 0, 4, 2, 3, 3, 4, 2, 2, 3, 4, 4, 3,\n",
       "        2, 1, 0, 1, 4, 1, 3, 3])"
      ]
     },
     "execution_count": 167,
     "metadata": {},
     "output_type": "execute_result"
    }
   ],
   "source": [
    "edge_label_sampled = sampled_data[('user', 'rates', 'movie')]['edge_label']\n",
    "edge_label_sampled"
   ]
  },
  {
   "cell_type": "markdown",
   "metadata": {},
   "source": [
    "### Heterogenous GNN Model\n",
    "\n",
    "Creating a heterogenous gnn model for the bipartite graph created.\n",
    "- Create embeddings for the bith node types \n",
    "- The embeddings are trained for the downstream task of predicting the ratings for the movies by a user"
   ]
  },
  {
   "cell_type": "code",
   "execution_count": 199,
   "metadata": {},
   "outputs": [
    {
     "name": "stdout",
     "output_type": "stream",
     "text": [
      "Model(\n",
      "  (gnn): GraphModule(\n",
      "    (conv1): ModuleDict(\n",
      "      (user__rates__movie): SAGEConv(64, 64, aggr=mean)\n",
      "      (movie__rev_rates__user): SAGEConv(64, 64, aggr=mean)\n",
      "    )\n",
      "    (conv2): ModuleDict(\n",
      "      (user__rates__movie): SAGEConv(64, 64, aggr=mean)\n",
      "      (movie__rev_rates__user): SAGEConv(64, 64, aggr=mean)\n",
      "    )\n",
      "  )\n",
      "  (user_batch_norm): BatchNorm1d(3, eps=1e-05, momentum=0.1, affine=True, track_running_stats=True)\n",
      "  (movie_batch_norm): BatchNorm1d(319, eps=1e-05, momentum=0.1, affine=True, track_running_stats=True)\n",
      "  (movie_lin): Linear(in_features=319, out_features=64, bias=True)\n",
      "  (user_lin): Linear(in_features=3, out_features=64, bias=True)\n",
      "  (classifier): Classifier()\n",
      ")\n"
     ]
    }
   ],
   "source": [
    "class GNN(torch.nn.Module):\n",
    "    def __init__(self, hidden_channels):\n",
    "        super().__init__()\n",
    "\n",
    "        self.conv1 = SAGEConv(hidden_channels, hidden_channels)\n",
    "        self.conv2 = SAGEConv(hidden_channels, hidden_channels)\n",
    "\n",
    "    def forward(self, x: Tensor, edge_index: Tensor) -> Tensor:\n",
    "        x = self.conv1(x, edge_index).relu()\n",
    "        x = self.conv2(x, edge_index)\n",
    "        return x\n",
    "\n",
    "# Our final classifier applies the dot-product between source and destination\n",
    "# node embeddings to derive edge-level predictions:\n",
    "class Classifier(torch.nn.Module):\n",
    "    def forward(self, x_user: Tensor, x_movie: Tensor, edge_label_index: Tensor) -> Tensor:\n",
    "        # Convert node embeddings to edge-level representations:\n",
    "        edge_feat_user = x_user[edge_label_index[0]]\n",
    "        edge_feat_movie = x_movie[edge_label_index[1]]\n",
    "        # Apply dot-product to get a prediction per supervision edge:\n",
    "        return (edge_feat_user * edge_feat_movie).sum(dim=-1)\n",
    "\n",
    "class Model(torch.nn.Module):\n",
    "    def __init__(self, num_user_feat, num_movie_feat, hidden_channels):\n",
    "        super().__init__()\n",
    "        # Instantiate homogeneous GNN:\n",
    "        self.gnn = GNN(hidden_channels)\n",
    "        self.user_batch_norm = torch.nn.BatchNorm1d(num_user_feat)\n",
    "        self.movie_batch_norm = torch.nn.BatchNorm1d(num_movie_feat)\n",
    "        self.movie_lin = torch.nn.Linear(num_movie_feat, hidden_channels)\n",
    "        self.user_lin = torch.nn.Linear(num_user_feat, hidden_channels)\n",
    "        # Convert GNN model into a heterogeneous variant:\n",
    "        self.gnn = to_hetero(self.gnn, metadata=train_graph.metadata())\n",
    "\n",
    "        self.classifier = Classifier()\n",
    "\n",
    "    def forward(self, data: HeteroData) -> Tensor:\n",
    "        x_dict = {\n",
    "          \"user\": self.user_lin(self.user_batch_norm(data['user'].x)),\n",
    "          \"movie\": self.movie_lin(self.movie_batch_norm(data[\"movie\"].x)),\n",
    "        }\n",
    "\n",
    "        # `x_dict` holds feature matrices of all node types\n",
    "        # `edge_index_dict` holds all edge indices of all edge types\n",
    "        x_dict = self.gnn(x_dict, data.edge_index_dict)\n",
    "\n",
    "        pred = self.classifier(\n",
    "            x_dict[\"user\"],\n",
    "            x_dict[\"movie\"],\n",
    "            data[\"user\", \"rates\", \"movie\"].edge_label_index,\n",
    "        )\n",
    "\n",
    "        return pred\n",
    "    \n",
    "model = Model(num_user_feat=train_data['user'].x.shape[1], \n",
    "              num_movie_feat=train_data['movie'].x.shape[1],\n",
    "              hidden_channels=64)\n",
    "\n",
    "print(model)"
   ]
  },
  {
   "cell_type": "markdown",
   "metadata": {},
   "source": [
    "### Training a Hetrogenous Link-level GNN"
   ]
  },
  {
   "cell_type": "code",
   "execution_count": 200,
   "metadata": {},
   "outputs": [
    {
     "name": "stdout",
     "output_type": "stream",
     "text": [
      "Device: 'cpu'\n"
     ]
    },
    {
     "name": "stderr",
     "output_type": "stream",
     "text": [
      "99it [00:05, 16.24it/s]/Users/ashish.kumarsinha/Documents/workspace/gnn/venv/lib/python3.12/site-packages/torch/nn/_reduction.py:51: UserWarning: size_average and reduce args will be deprecated, please use reduction='mean' instead.\n",
      "  warnings.warn(warning.format(ret))\n",
      "104it [00:05, 11.12it/s]"
     ]
    },
    {
     "name": "stdout",
     "output_type": "stream",
     "text": [
      "epoch = 1, i = 100, val_loss = tensor(3910763.7500)\n"
     ]
    },
    {
     "name": "stderr",
     "output_type": "stream",
     "text": [
      "204it [00:11, 14.19it/s]"
     ]
    },
    {
     "name": "stdout",
     "output_type": "stream",
     "text": [
      "epoch = 1, i = 200, val_loss = tensor(3906294.)\n"
     ]
    },
    {
     "name": "stderr",
     "output_type": "stream",
     "text": [
      "304it [00:16, 10.75it/s]"
     ]
    },
    {
     "name": "stdout",
     "output_type": "stream",
     "text": [
      "epoch = 1, i = 300, val_loss = tensor(3903304.)\n"
     ]
    },
    {
     "name": "stderr",
     "output_type": "stream",
     "text": [
      "405it [00:21, 14.35it/s]"
     ]
    },
    {
     "name": "stdout",
     "output_type": "stream",
     "text": [
      "epoch = 1, i = 400, val_loss = tensor(3904933.7500)\n"
     ]
    },
    {
     "name": "stderr",
     "output_type": "stream",
     "text": [
      "504it [00:27, 10.27it/s]"
     ]
    },
    {
     "name": "stdout",
     "output_type": "stream",
     "text": [
      "epoch = 1, i = 500, val_loss = tensor(3902139.7500)\n"
     ]
    },
    {
     "name": "stderr",
     "output_type": "stream",
     "text": [
      "605it [00:32, 15.28it/s]"
     ]
    },
    {
     "name": "stdout",
     "output_type": "stream",
     "text": [
      "epoch = 1, i = 600, val_loss = tensor(3900745.5000)\n"
     ]
    },
    {
     "name": "stderr",
     "output_type": "stream",
     "text": [
      "705it [00:37, 12.51it/s]"
     ]
    },
    {
     "name": "stdout",
     "output_type": "stream",
     "text": [
      "epoch = 1, i = 700, val_loss = tensor(3903539.5000)\n"
     ]
    },
    {
     "name": "stderr",
     "output_type": "stream",
     "text": [
      "802it [00:42, 12.71it/s]"
     ]
    },
    {
     "name": "stdout",
     "output_type": "stream",
     "text": [
      "epoch = 1, i = 800, val_loss = tensor(3903153.5000)\n"
     ]
    },
    {
     "name": "stderr",
     "output_type": "stream",
     "text": [
      "904it [00:47, 12.77it/s]"
     ]
    },
    {
     "name": "stdout",
     "output_type": "stream",
     "text": [
      "epoch = 1, i = 900, val_loss = tensor(3901981.2500)\n"
     ]
    },
    {
     "name": "stderr",
     "output_type": "stream",
     "text": [
      "1003it [00:53, 13.81it/s]"
     ]
    },
    {
     "name": "stdout",
     "output_type": "stream",
     "text": [
      "epoch = 1, i = 1000, val_loss = tensor(3899750.2500)\n"
     ]
    },
    {
     "name": "stderr",
     "output_type": "stream",
     "text": [
      "1103it [00:59,  9.54it/s]"
     ]
    },
    {
     "name": "stdout",
     "output_type": "stream",
     "text": [
      "epoch = 1, i = 1100, val_loss = tensor(3900696.)\n"
     ]
    },
    {
     "name": "stderr",
     "output_type": "stream",
     "text": [
      "1204it [01:05, 10.60it/s]"
     ]
    },
    {
     "name": "stdout",
     "output_type": "stream",
     "text": [
      "epoch = 1, i = 1200, val_loss = tensor(3902696.5000)\n"
     ]
    },
    {
     "name": "stderr",
     "output_type": "stream",
     "text": [
      "1303it [01:12,  9.26it/s]"
     ]
    },
    {
     "name": "stdout",
     "output_type": "stream",
     "text": [
      "epoch = 1, i = 1300, val_loss = tensor(3899784.5000)\n"
     ]
    },
    {
     "name": "stderr",
     "output_type": "stream",
     "text": [
      "1403it [01:18,  8.87it/s]"
     ]
    },
    {
     "name": "stdout",
     "output_type": "stream",
     "text": [
      "epoch = 1, i = 1400, val_loss = tensor(3903937.5000)\n"
     ]
    },
    {
     "name": "stderr",
     "output_type": "stream",
     "text": [
      "1502it [01:25,  8.49it/s]"
     ]
    },
    {
     "name": "stdout",
     "output_type": "stream",
     "text": [
      "epoch = 1, i = 1500, val_loss = tensor(3902360.5000)\n"
     ]
    },
    {
     "name": "stderr",
     "output_type": "stream",
     "text": [
      "1605it [01:32, 11.40it/s]"
     ]
    },
    {
     "name": "stdout",
     "output_type": "stream",
     "text": [
      "epoch = 1, i = 1600, val_loss = tensor(3901127.7500)\n"
     ]
    },
    {
     "name": "stderr",
     "output_type": "stream",
     "text": [
      "1703it [01:38, 13.02it/s]"
     ]
    },
    {
     "name": "stdout",
     "output_type": "stream",
     "text": [
      "epoch = 1, i = 1700, val_loss = tensor(3900033.2500)\n"
     ]
    },
    {
     "name": "stderr",
     "output_type": "stream",
     "text": [
      "1803it [01:43, 11.25it/s]"
     ]
    },
    {
     "name": "stdout",
     "output_type": "stream",
     "text": [
      "epoch = 1, i = 1800, val_loss = tensor(3901574.2500)\n"
     ]
    },
    {
     "name": "stderr",
     "output_type": "stream",
     "text": [
      "1899it [01:48, 17.51it/s]\n"
     ]
    },
    {
     "name": "stdout",
     "output_type": "stream",
     "text": [
      "Epoch: 001, Loss: 1604.7130\n"
     ]
    },
    {
     "name": "stderr",
     "output_type": "stream",
     "text": [
      "103it [00:06, 11.26it/s]"
     ]
    },
    {
     "name": "stdout",
     "output_type": "stream",
     "text": [
      "epoch = 2, i = 100, val_loss = tensor(3900907.5000)\n"
     ]
    },
    {
     "name": "stderr",
     "output_type": "stream",
     "text": [
      "203it [00:11, 13.06it/s]"
     ]
    },
    {
     "name": "stdout",
     "output_type": "stream",
     "text": [
      "epoch = 2, i = 200, val_loss = tensor(3899245.5000)\n"
     ]
    },
    {
     "name": "stderr",
     "output_type": "stream",
     "text": [
      "304it [00:17, 10.01it/s]"
     ]
    },
    {
     "name": "stdout",
     "output_type": "stream",
     "text": [
      "epoch = 2, i = 300, val_loss = tensor(3900417.5000)\n"
     ]
    },
    {
     "name": "stderr",
     "output_type": "stream",
     "text": [
      "404it [00:22, 12.57it/s]"
     ]
    },
    {
     "name": "stdout",
     "output_type": "stream",
     "text": [
      "epoch = 2, i = 400, val_loss = tensor(3900210.5000)\n"
     ]
    },
    {
     "name": "stderr",
     "output_type": "stream",
     "text": [
      "503it [00:27, 12.21it/s]"
     ]
    },
    {
     "name": "stdout",
     "output_type": "stream",
     "text": [
      "epoch = 2, i = 500, val_loss = tensor(3900647.5000)\n"
     ]
    },
    {
     "name": "stderr",
     "output_type": "stream",
     "text": [
      "605it [00:32, 16.18it/s]"
     ]
    },
    {
     "name": "stdout",
     "output_type": "stream",
     "text": [
      "epoch = 2, i = 600, val_loss = tensor(3901194.)\n"
     ]
    },
    {
     "name": "stderr",
     "output_type": "stream",
     "text": [
      "704it [00:37, 13.81it/s]"
     ]
    },
    {
     "name": "stdout",
     "output_type": "stream",
     "text": [
      "epoch = 2, i = 700, val_loss = tensor(3902026.)\n"
     ]
    },
    {
     "name": "stderr",
     "output_type": "stream",
     "text": [
      "804it [00:42, 12.08it/s]"
     ]
    },
    {
     "name": "stdout",
     "output_type": "stream",
     "text": [
      "epoch = 2, i = 800, val_loss = tensor(3898953.7500)\n"
     ]
    },
    {
     "name": "stderr",
     "output_type": "stream",
     "text": [
      "903it [00:48,  9.48it/s]"
     ]
    },
    {
     "name": "stdout",
     "output_type": "stream",
     "text": [
      "epoch = 2, i = 900, val_loss = tensor(3900795.7500)\n"
     ]
    },
    {
     "name": "stderr",
     "output_type": "stream",
     "text": [
      "1004it [00:54, 11.87it/s]"
     ]
    },
    {
     "name": "stdout",
     "output_type": "stream",
     "text": [
      "epoch = 2, i = 1000, val_loss = tensor(3899897.2500)\n"
     ]
    },
    {
     "name": "stderr",
     "output_type": "stream",
     "text": [
      "1104it [01:00, 13.07it/s]"
     ]
    },
    {
     "name": "stdout",
     "output_type": "stream",
     "text": [
      "epoch = 2, i = 1100, val_loss = tensor(3900871.2500)\n"
     ]
    },
    {
     "name": "stderr",
     "output_type": "stream",
     "text": [
      "1202it [01:06,  8.61it/s]"
     ]
    },
    {
     "name": "stdout",
     "output_type": "stream",
     "text": [
      "epoch = 2, i = 1200, val_loss = tensor(3899073.)\n"
     ]
    },
    {
     "name": "stderr",
     "output_type": "stream",
     "text": [
      "1304it [01:12, 13.54it/s]"
     ]
    },
    {
     "name": "stdout",
     "output_type": "stream",
     "text": [
      "epoch = 2, i = 1300, val_loss = tensor(3899361.)\n"
     ]
    },
    {
     "name": "stderr",
     "output_type": "stream",
     "text": [
      "1403it [01:18,  8.98it/s]"
     ]
    },
    {
     "name": "stdout",
     "output_type": "stream",
     "text": [
      "epoch = 2, i = 1400, val_loss = tensor(3899483.7500)\n"
     ]
    },
    {
     "name": "stderr",
     "output_type": "stream",
     "text": [
      "1502it [01:24, 10.06it/s]"
     ]
    },
    {
     "name": "stdout",
     "output_type": "stream",
     "text": [
      "epoch = 2, i = 1500, val_loss = tensor(3901598.)\n"
     ]
    },
    {
     "name": "stderr",
     "output_type": "stream",
     "text": [
      "1603it [01:30, 11.25it/s]"
     ]
    },
    {
     "name": "stdout",
     "output_type": "stream",
     "text": [
      "epoch = 2, i = 1600, val_loss = tensor(3901918.)\n"
     ]
    },
    {
     "name": "stderr",
     "output_type": "stream",
     "text": [
      "1703it [01:35, 10.94it/s]"
     ]
    },
    {
     "name": "stdout",
     "output_type": "stream",
     "text": [
      "epoch = 2, i = 1700, val_loss = tensor(3900184.)\n"
     ]
    },
    {
     "name": "stderr",
     "output_type": "stream",
     "text": [
      "1802it [01:42,  7.09it/s]"
     ]
    },
    {
     "name": "stdout",
     "output_type": "stream",
     "text": [
      "epoch = 2, i = 1800, val_loss = tensor(3897528.)\n"
     ]
    },
    {
     "name": "stderr",
     "output_type": "stream",
     "text": [
      "1899it [01:47, 17.71it/s]\n"
     ]
    },
    {
     "name": "stdout",
     "output_type": "stream",
     "text": [
      "Epoch: 002, Loss: 1603.5531\n"
     ]
    },
    {
     "name": "stderr",
     "output_type": "stream",
     "text": [
      "104it [00:05, 11.42it/s]"
     ]
    },
    {
     "name": "stdout",
     "output_type": "stream",
     "text": [
      "epoch = 3, i = 100, val_loss = tensor(3899773.5000)\n"
     ]
    },
    {
     "name": "stderr",
     "output_type": "stream",
     "text": [
      "204it [00:11, 10.79it/s]"
     ]
    },
    {
     "name": "stdout",
     "output_type": "stream",
     "text": [
      "epoch = 3, i = 200, val_loss = tensor(3900155.)\n"
     ]
    },
    {
     "name": "stderr",
     "output_type": "stream",
     "text": [
      "302it [00:17, 10.25it/s]"
     ]
    },
    {
     "name": "stdout",
     "output_type": "stream",
     "text": [
      "epoch = 3, i = 300, val_loss = tensor(3900253.)\n"
     ]
    },
    {
     "name": "stderr",
     "output_type": "stream",
     "text": [
      "404it [00:23,  9.71it/s]"
     ]
    },
    {
     "name": "stdout",
     "output_type": "stream",
     "text": [
      "epoch = 3, i = 400, val_loss = tensor(3898236.2500)\n"
     ]
    },
    {
     "name": "stderr",
     "output_type": "stream",
     "text": [
      "503it [00:28, 13.51it/s]"
     ]
    },
    {
     "name": "stdout",
     "output_type": "stream",
     "text": [
      "epoch = 3, i = 500, val_loss = tensor(3898723.)\n"
     ]
    },
    {
     "name": "stderr",
     "output_type": "stream",
     "text": [
      "604it [00:33, 12.44it/s]"
     ]
    },
    {
     "name": "stdout",
     "output_type": "stream",
     "text": [
      "epoch = 3, i = 600, val_loss = tensor(3899614.7500)\n"
     ]
    },
    {
     "name": "stderr",
     "output_type": "stream",
     "text": [
      "705it [00:39, 12.99it/s]"
     ]
    },
    {
     "name": "stdout",
     "output_type": "stream",
     "text": [
      "epoch = 3, i = 700, val_loss = tensor(3898620.5000)\n"
     ]
    },
    {
     "name": "stderr",
     "output_type": "stream",
     "text": [
      "803it [00:45, 11.40it/s]"
     ]
    },
    {
     "name": "stdout",
     "output_type": "stream",
     "text": [
      "epoch = 3, i = 800, val_loss = tensor(3899383.5000)\n"
     ]
    },
    {
     "name": "stderr",
     "output_type": "stream",
     "text": [
      "905it [00:50, 14.27it/s]"
     ]
    },
    {
     "name": "stdout",
     "output_type": "stream",
     "text": [
      "epoch = 3, i = 900, val_loss = tensor(3898613.2500)\n"
     ]
    },
    {
     "name": "stderr",
     "output_type": "stream",
     "text": [
      "1002it [00:56,  6.28it/s]"
     ]
    },
    {
     "name": "stdout",
     "output_type": "stream",
     "text": [
      "epoch = 3, i = 1000, val_loss = tensor(3900621.5000)\n"
     ]
    },
    {
     "name": "stderr",
     "output_type": "stream",
     "text": [
      "1104it [01:03,  8.84it/s]"
     ]
    },
    {
     "name": "stdout",
     "output_type": "stream",
     "text": [
      "epoch = 3, i = 1100, val_loss = tensor(3899568.5000)\n"
     ]
    },
    {
     "name": "stderr",
     "output_type": "stream",
     "text": [
      "1204it [01:09, 12.74it/s]"
     ]
    },
    {
     "name": "stdout",
     "output_type": "stream",
     "text": [
      "epoch = 3, i = 1200, val_loss = tensor(3900248.5000)\n"
     ]
    },
    {
     "name": "stderr",
     "output_type": "stream",
     "text": [
      "1305it [01:15, 11.21it/s]"
     ]
    },
    {
     "name": "stdout",
     "output_type": "stream",
     "text": [
      "epoch = 3, i = 1300, val_loss = tensor(3898050.7500)\n"
     ]
    },
    {
     "name": "stderr",
     "output_type": "stream",
     "text": [
      "1404it [01:21, 13.87it/s]"
     ]
    },
    {
     "name": "stdout",
     "output_type": "stream",
     "text": [
      "epoch = 3, i = 1400, val_loss = tensor(3897917.5000)\n"
     ]
    },
    {
     "name": "stderr",
     "output_type": "stream",
     "text": [
      "1503it [01:26, 13.22it/s]"
     ]
    },
    {
     "name": "stdout",
     "output_type": "stream",
     "text": [
      "epoch = 3, i = 1500, val_loss = tensor(3899649.5000)\n"
     ]
    },
    {
     "name": "stderr",
     "output_type": "stream",
     "text": [
      "1604it [01:32, 11.23it/s]"
     ]
    },
    {
     "name": "stdout",
     "output_type": "stream",
     "text": [
      "epoch = 3, i = 1600, val_loss = tensor(3899571.)\n"
     ]
    },
    {
     "name": "stderr",
     "output_type": "stream",
     "text": [
      "1703it [01:40,  6.91it/s]"
     ]
    },
    {
     "name": "stdout",
     "output_type": "stream",
     "text": [
      "epoch = 3, i = 1700, val_loss = tensor(3898685.5000)\n"
     ]
    },
    {
     "name": "stderr",
     "output_type": "stream",
     "text": [
      "1804it [01:45, 13.03it/s]"
     ]
    },
    {
     "name": "stdout",
     "output_type": "stream",
     "text": [
      "epoch = 3, i = 1800, val_loss = tensor(3896280.)\n"
     ]
    },
    {
     "name": "stderr",
     "output_type": "stream",
     "text": [
      "1899it [01:52, 16.86it/s]\n"
     ]
    },
    {
     "name": "stdout",
     "output_type": "stream",
     "text": [
      "Epoch: 003, Loss: 1603.1834\n"
     ]
    },
    {
     "name": "stderr",
     "output_type": "stream",
     "text": [
      "102it [00:05, 10.39it/s]"
     ]
    },
    {
     "name": "stdout",
     "output_type": "stream",
     "text": [
      "epoch = 4, i = 100, val_loss = tensor(3897488.)\n"
     ]
    },
    {
     "name": "stderr",
     "output_type": "stream",
     "text": [
      "202it [00:11,  9.55it/s]"
     ]
    },
    {
     "name": "stdout",
     "output_type": "stream",
     "text": [
      "epoch = 4, i = 200, val_loss = tensor(3895840.)\n"
     ]
    },
    {
     "name": "stderr",
     "output_type": "stream",
     "text": [
      "302it [00:18,  9.17it/s]"
     ]
    },
    {
     "name": "stdout",
     "output_type": "stream",
     "text": [
      "epoch = 4, i = 300, val_loss = tensor(3899042.)\n"
     ]
    },
    {
     "name": "stderr",
     "output_type": "stream",
     "text": [
      "404it [00:24, 13.53it/s]"
     ]
    },
    {
     "name": "stdout",
     "output_type": "stream",
     "text": [
      "epoch = 4, i = 400, val_loss = tensor(3898210.)\n"
     ]
    },
    {
     "name": "stderr",
     "output_type": "stream",
     "text": [
      "503it [00:30,  9.24it/s]"
     ]
    },
    {
     "name": "stdout",
     "output_type": "stream",
     "text": [
      "epoch = 4, i = 500, val_loss = tensor(3896995.5000)\n"
     ]
    },
    {
     "name": "stderr",
     "output_type": "stream",
     "text": [
      "602it [00:36,  9.24it/s]"
     ]
    },
    {
     "name": "stdout",
     "output_type": "stream",
     "text": [
      "epoch = 4, i = 600, val_loss = tensor(3896649.7500)\n"
     ]
    },
    {
     "name": "stderr",
     "output_type": "stream",
     "text": [
      "703it [00:43,  9.87it/s]"
     ]
    },
    {
     "name": "stdout",
     "output_type": "stream",
     "text": [
      "epoch = 4, i = 700, val_loss = tensor(3898321.)\n"
     ]
    },
    {
     "name": "stderr",
     "output_type": "stream",
     "text": [
      "804it [00:49,  9.58it/s]"
     ]
    },
    {
     "name": "stdout",
     "output_type": "stream",
     "text": [
      "epoch = 4, i = 800, val_loss = tensor(3898278.7500)\n"
     ]
    },
    {
     "name": "stderr",
     "output_type": "stream",
     "text": [
      "903it [00:56, 11.44it/s]"
     ]
    },
    {
     "name": "stdout",
     "output_type": "stream",
     "text": [
      "epoch = 4, i = 900, val_loss = tensor(3898610.5000)\n"
     ]
    },
    {
     "name": "stderr",
     "output_type": "stream",
     "text": [
      "1003it [01:02,  9.35it/s]"
     ]
    },
    {
     "name": "stdout",
     "output_type": "stream",
     "text": [
      "epoch = 4, i = 1000, val_loss = tensor(3898332.5000)\n"
     ]
    },
    {
     "name": "stderr",
     "output_type": "stream",
     "text": [
      "1103it [01:08, 11.49it/s]"
     ]
    },
    {
     "name": "stdout",
     "output_type": "stream",
     "text": [
      "epoch = 4, i = 1100, val_loss = tensor(3898530.5000)\n"
     ]
    },
    {
     "name": "stderr",
     "output_type": "stream",
     "text": [
      "1202it [01:14, 10.31it/s]"
     ]
    },
    {
     "name": "stdout",
     "output_type": "stream",
     "text": [
      "epoch = 4, i = 1200, val_loss = tensor(3898699.7500)\n"
     ]
    },
    {
     "name": "stderr",
     "output_type": "stream",
     "text": [
      "1302it [01:19, 11.65it/s]"
     ]
    },
    {
     "name": "stdout",
     "output_type": "stream",
     "text": [
      "epoch = 4, i = 1300, val_loss = tensor(3897389.)\n"
     ]
    },
    {
     "name": "stderr",
     "output_type": "stream",
     "text": [
      "1404it [01:25, 11.26it/s]"
     ]
    },
    {
     "name": "stdout",
     "output_type": "stream",
     "text": [
      "epoch = 4, i = 1400, val_loss = tensor(3898890.)\n"
     ]
    },
    {
     "name": "stderr",
     "output_type": "stream",
     "text": [
      "1501it [01:31, 10.08it/s]"
     ]
    },
    {
     "name": "stdout",
     "output_type": "stream",
     "text": [
      "epoch = 4, i = 1500, val_loss = tensor(3896753.5000)\n"
     ]
    },
    {
     "name": "stderr",
     "output_type": "stream",
     "text": [
      "1604it [01:37, 13.92it/s]"
     ]
    },
    {
     "name": "stdout",
     "output_type": "stream",
     "text": [
      "epoch = 4, i = 1600, val_loss = tensor(3899454.)\n"
     ]
    },
    {
     "name": "stderr",
     "output_type": "stream",
     "text": [
      "1705it [01:42, 13.52it/s]"
     ]
    },
    {
     "name": "stdout",
     "output_type": "stream",
     "text": [
      "epoch = 4, i = 1700, val_loss = tensor(3899234.2500)\n"
     ]
    },
    {
     "name": "stderr",
     "output_type": "stream",
     "text": [
      "1805it [01:48, 11.68it/s]"
     ]
    },
    {
     "name": "stdout",
     "output_type": "stream",
     "text": [
      "epoch = 4, i = 1800, val_loss = tensor(3897988.)\n"
     ]
    },
    {
     "name": "stderr",
     "output_type": "stream",
     "text": [
      "1899it [01:53, 16.79it/s]\n"
     ]
    },
    {
     "name": "stdout",
     "output_type": "stream",
     "text": [
      "Epoch: 004, Loss: 1602.8644\n"
     ]
    },
    {
     "name": "stderr",
     "output_type": "stream",
     "text": [
      "102it [00:05,  9.98it/s]"
     ]
    },
    {
     "name": "stdout",
     "output_type": "stream",
     "text": [
      "epoch = 5, i = 100, val_loss = tensor(3896500.5000)\n"
     ]
    },
    {
     "name": "stderr",
     "output_type": "stream",
     "text": [
      "204it [00:11, 13.41it/s]"
     ]
    },
    {
     "name": "stdout",
     "output_type": "stream",
     "text": [
      "epoch = 5, i = 200, val_loss = tensor(3901232.)\n"
     ]
    },
    {
     "name": "stderr",
     "output_type": "stream",
     "text": [
      "304it [00:18, 10.40it/s]"
     ]
    },
    {
     "name": "stdout",
     "output_type": "stream",
     "text": [
      "epoch = 5, i = 300, val_loss = tensor(3898653.)\n"
     ]
    },
    {
     "name": "stderr",
     "output_type": "stream",
     "text": [
      "403it [00:23, 10.88it/s]"
     ]
    },
    {
     "name": "stdout",
     "output_type": "stream",
     "text": [
      "epoch = 5, i = 400, val_loss = tensor(3898625.)\n"
     ]
    },
    {
     "name": "stderr",
     "output_type": "stream",
     "text": [
      "503it [00:28,  9.94it/s]"
     ]
    },
    {
     "name": "stdout",
     "output_type": "stream",
     "text": [
      "epoch = 5, i = 500, val_loss = tensor(3898980.)\n"
     ]
    },
    {
     "name": "stderr",
     "output_type": "stream",
     "text": [
      "602it [00:35,  8.39it/s]"
     ]
    },
    {
     "name": "stdout",
     "output_type": "stream",
     "text": [
      "epoch = 5, i = 600, val_loss = tensor(3895722.)\n"
     ]
    },
    {
     "name": "stderr",
     "output_type": "stream",
     "text": [
      "703it [00:41, 12.31it/s]"
     ]
    },
    {
     "name": "stdout",
     "output_type": "stream",
     "text": [
      "epoch = 5, i = 700, val_loss = tensor(3897207.7500)\n"
     ]
    },
    {
     "name": "stderr",
     "output_type": "stream",
     "text": [
      "803it [00:47,  9.14it/s]"
     ]
    },
    {
     "name": "stdout",
     "output_type": "stream",
     "text": [
      "epoch = 5, i = 800, val_loss = tensor(3897960.)\n"
     ]
    },
    {
     "name": "stderr",
     "output_type": "stream",
     "text": [
      "904it [00:52, 14.81it/s]"
     ]
    },
    {
     "name": "stdout",
     "output_type": "stream",
     "text": [
      "epoch = 5, i = 900, val_loss = tensor(3897624.)\n"
     ]
    },
    {
     "name": "stderr",
     "output_type": "stream",
     "text": [
      "1002it [00:58,  8.01it/s]"
     ]
    },
    {
     "name": "stdout",
     "output_type": "stream",
     "text": [
      "epoch = 5, i = 1000, val_loss = tensor(3897032.5000)\n"
     ]
    },
    {
     "name": "stderr",
     "output_type": "stream",
     "text": [
      "1103it [01:03, 12.52it/s]"
     ]
    },
    {
     "name": "stdout",
     "output_type": "stream",
     "text": [
      "epoch = 5, i = 1100, val_loss = tensor(3898913.)\n"
     ]
    },
    {
     "name": "stderr",
     "output_type": "stream",
     "text": [
      "1204it [01:09, 11.17it/s]"
     ]
    },
    {
     "name": "stdout",
     "output_type": "stream",
     "text": [
      "epoch = 5, i = 1200, val_loss = tensor(3897545.5000)\n"
     ]
    },
    {
     "name": "stderr",
     "output_type": "stream",
     "text": [
      "1303it [01:14, 10.67it/s]"
     ]
    },
    {
     "name": "stdout",
     "output_type": "stream",
     "text": [
      "epoch = 5, i = 1300, val_loss = tensor(3898348.5000)\n"
     ]
    },
    {
     "name": "stderr",
     "output_type": "stream",
     "text": [
      "1403it [01:20, 11.95it/s]"
     ]
    },
    {
     "name": "stdout",
     "output_type": "stream",
     "text": [
      "epoch = 5, i = 1400, val_loss = tensor(3896458.2500)\n"
     ]
    },
    {
     "name": "stderr",
     "output_type": "stream",
     "text": [
      "1503it [01:25, 12.50it/s]"
     ]
    },
    {
     "name": "stdout",
     "output_type": "stream",
     "text": [
      "epoch = 5, i = 1500, val_loss = tensor(3897897.5000)\n"
     ]
    },
    {
     "name": "stderr",
     "output_type": "stream",
     "text": [
      "1603it [01:31, 12.41it/s]"
     ]
    },
    {
     "name": "stdout",
     "output_type": "stream",
     "text": [
      "epoch = 5, i = 1600, val_loss = tensor(3898014.5000)\n"
     ]
    },
    {
     "name": "stderr",
     "output_type": "stream",
     "text": [
      "1704it [01:37, 12.91it/s]"
     ]
    },
    {
     "name": "stdout",
     "output_type": "stream",
     "text": [
      "epoch = 5, i = 1700, val_loss = tensor(3897237.)\n"
     ]
    },
    {
     "name": "stderr",
     "output_type": "stream",
     "text": [
      "1805it [01:43, 13.81it/s]"
     ]
    },
    {
     "name": "stdout",
     "output_type": "stream",
     "text": [
      "epoch = 5, i = 1800, val_loss = tensor(3895078.)\n"
     ]
    },
    {
     "name": "stderr",
     "output_type": "stream",
     "text": [
      "1899it [01:48, 17.56it/s]"
     ]
    },
    {
     "name": "stdout",
     "output_type": "stream",
     "text": [
      "Epoch: 005, Loss: 1602.6951\n"
     ]
    },
    {
     "name": "stderr",
     "output_type": "stream",
     "text": [
      "\n"
     ]
    }
   ],
   "source": [
    "import tqdm\n",
    "import torch.nn.functional as F\n",
    "\n",
    "device = torch.device('cuda' if torch.cuda.is_available() else 'cpu')\n",
    "print(f\"Device: '{device}'\")\n",
    "\n",
    "model = model.to(device)  # Move the model to the device\n",
    "optimizer = torch.optim.Adam(model.parameters(), lr=0.001)  # Define the optimizer\n",
    "\n",
    "for epoch in range(1, 6):  # Training for 5 epochs\n",
    "    total_loss = total_examples = 0  # Initialize loss and examples\n",
    "    model.train()  # Set the model to training mode\n",
    "    \n",
    "    for i, sampled_data in tqdm.tqdm(enumerate(train_loader)):  # Iterate over the training loader\n",
    "        optimizer.zero_grad()  # Zero the gradients\n",
    "        \n",
    "        # Move `sampled_data` to the device\n",
    "        sampled_data = sampled_data.to(device)\n",
    "        \n",
    "        # Run the `forward` pass of the model\n",
    "        pred = model(\n",
    "            sampled_data\n",
    "        )\n",
    "        # Extract ground truth labels\n",
    "        ground_truth = sampled_data[\"user\", \"rates\", \"movie\"].edge_label.to(torch.float)\n",
    "        # Apply binary cross-entropy loss\n",
    "        loss = F.cross_entropy(pred, ground_truth)\n",
    "        \n",
    "        # Backward pass and optimization step\n",
    "        loss.backward()\n",
    "        optimizer.step()\n",
    "        \n",
    "        # Accumulate total loss and total examples\n",
    "        total_loss += float(loss) * pred.numel()  # Scale loss by number of predictions\n",
    "        total_examples += pred.numel()  # Count the number of predictions\n",
    "        if i%100 == 0 and i > 0:\n",
    "            with torch.no_grad():\n",
    "                val_pred = model(val_data)\n",
    "                val_ground_truth = val_data[\"user\", \"rates\", \"movie\"].edge_label.to(torch.float)\n",
    "                val_loss = F.cross_entropy(val_pred, val_ground_truth, reduce=True, reduction='mean')\n",
    "                print(f\"{epoch = }, {i = }, {val_loss = }\")\n",
    "    \n",
    "    \n",
    "    # Print epoch loss\n",
    "    print(f\"Epoch: {epoch:03d}, Loss: {total_loss / total_examples:.4f}\")"
   ]
  },
  {
   "cell_type": "markdown",
   "metadata": {},
   "source": [
    "### Evaluation\n",
    "\n",
    "For a given node (user) predict the the other nodes (movies) it will show affinity to (rating)\n",
    "\n",
    "Given a truly unseen data, splitted by timestamp\n",
    "\n",
    "Following strategy will be used -\n",
    "1. get all the user and movie features\n",
    "2. for a given user find the affinity to all the movies present in the test dataset\n",
    "3. rank them by affinities\n",
    "4. evaluate the true ratings vs the predicted ratings"
   ]
  },
  {
   "cell_type": "code",
   "execution_count": 201,
   "metadata": {},
   "outputs": [
    {
     "data": {
      "text/html": [
       "<div>\n",
       "<style scoped>\n",
       "    .dataframe tbody tr th:only-of-type {\n",
       "        vertical-align: middle;\n",
       "    }\n",
       "\n",
       "    .dataframe tbody tr th {\n",
       "        vertical-align: top;\n",
       "    }\n",
       "\n",
       "    .dataframe thead th {\n",
       "        text-align: right;\n",
       "    }\n",
       "</style>\n",
       "<table border=\"1\" class=\"dataframe\">\n",
       "  <thead>\n",
       "    <tr style=\"text-align: right;\">\n",
       "      <th></th>\n",
       "      <th>UserID</th>\n",
       "      <th>MovieID</th>\n",
       "      <th>Rating</th>\n",
       "      <th>Timestamp</th>\n",
       "    </tr>\n",
       "  </thead>\n",
       "  <tbody>\n",
       "    <tr>\n",
       "      <th>0</th>\n",
       "      <td>6010</td>\n",
       "      <td>794</td>\n",
       "      <td>4</td>\n",
       "      <td>956703932</td>\n",
       "    </tr>\n",
       "    <tr>\n",
       "      <th>1</th>\n",
       "      <td>6010</td>\n",
       "      <td>2175</td>\n",
       "      <td>4</td>\n",
       "      <td>956703954</td>\n",
       "    </tr>\n",
       "    <tr>\n",
       "      <th>2</th>\n",
       "      <td>6010</td>\n",
       "      <td>576</td>\n",
       "      <td>5</td>\n",
       "      <td>956703954</td>\n",
       "    </tr>\n",
       "    <tr>\n",
       "      <th>3</th>\n",
       "      <td>6010</td>\n",
       "      <td>1769</td>\n",
       "      <td>4</td>\n",
       "      <td>956703977</td>\n",
       "    </tr>\n",
       "    <tr>\n",
       "      <th>4</th>\n",
       "      <td>6010</td>\n",
       "      <td>1827</td>\n",
       "      <td>5</td>\n",
       "      <td>956703977</td>\n",
       "    </tr>\n",
       "    <tr>\n",
       "      <th>...</th>\n",
       "      <td>...</td>\n",
       "      <td>...</td>\n",
       "      <td>...</td>\n",
       "      <td>...</td>\n",
       "    </tr>\n",
       "    <tr>\n",
       "      <th>900184</th>\n",
       "      <td>0</td>\n",
       "      <td>980</td>\n",
       "      <td>4</td>\n",
       "      <td>978133305</td>\n",
       "    </tr>\n",
       "    <tr>\n",
       "      <th>900185</th>\n",
       "      <td>0</td>\n",
       "      <td>2215</td>\n",
       "      <td>3</td>\n",
       "      <td>978133334</td>\n",
       "    </tr>\n",
       "    <tr>\n",
       "      <th>900186</th>\n",
       "      <td>0</td>\n",
       "      <td>568</td>\n",
       "      <td>4</td>\n",
       "      <td>978133348</td>\n",
       "    </tr>\n",
       "    <tr>\n",
       "      <th>900187</th>\n",
       "      <td>0</td>\n",
       "      <td>2463</td>\n",
       "      <td>4</td>\n",
       "      <td>978133367</td>\n",
       "    </tr>\n",
       "    <tr>\n",
       "      <th>900188</th>\n",
       "      <td>0</td>\n",
       "      <td>452</td>\n",
       "      <td>4</td>\n",
       "      <td>978133414</td>\n",
       "    </tr>\n",
       "  </tbody>\n",
       "</table>\n",
       "<p>900189 rows × 4 columns</p>\n",
       "</div>"
      ],
      "text/plain": [
       "        UserID  MovieID  Rating  Timestamp\n",
       "0         6010      794       4  956703932\n",
       "1         6010     2175       4  956703954\n",
       "2         6010      576       5  956703954\n",
       "3         6010     1769       4  956703977\n",
       "4         6010     1827       5  956703977\n",
       "...        ...      ...     ...        ...\n",
       "900184       0      980       4  978133305\n",
       "900185       0     2215       3  978133334\n",
       "900186       0      568       4  978133348\n",
       "900187       0     2463       4  978133367\n",
       "900188       0      452       4  978133414\n",
       "\n",
       "[900189 rows x 4 columns]"
      ]
     },
     "execution_count": 201,
     "metadata": {},
     "output_type": "execute_result"
    }
   ],
   "source": [
    "train_ratings_transformed"
   ]
  },
  {
   "cell_type": "code",
   "execution_count": 188,
   "metadata": {},
   "outputs": [
    {
     "data": {
      "text/plain": [
       "torch.Size([180036])"
      ]
     },
     "execution_count": 188,
     "metadata": {},
     "output_type": "execute_result"
    }
   ],
   "source": []
  },
  {
   "cell_type": "code",
   "execution_count": null,
   "metadata": {},
   "outputs": [],
   "source": []
  },
  {
   "cell_type": "code",
   "execution_count": 185,
   "metadata": {},
   "outputs": [
    {
     "data": {
      "text/plain": [
       "HeteroData(\n",
       "  user={\n",
       "    node_id=[6011],\n",
       "    x=[6011, 3],\n",
       "  },\n",
       "  movie={\n",
       "    node_id=[3678],\n",
       "    x=[3678, 319],\n",
       "  },\n",
       "  (user, rates, movie)={\n",
       "    edge_index=[2, 810171],\n",
       "    edge_label=[180036],\n",
       "    edge_label_index=[2, 180036],\n",
       "  },\n",
       "  (movie, rev_rates, user)={\n",
       "    edge_index=[2, 810171],\n",
       "    edge_label=[810171],\n",
       "  }\n",
       ")"
      ]
     },
     "execution_count": 185,
     "metadata": {},
     "output_type": "execute_result"
    }
   ],
   "source": [
    "# Sampled mini-batch:\n",
    "# ===================\n",
    "# HeteroData(\n",
    "#   user={\n",
    "#     node_id=[4062],\n",
    "#     x=[4062, 3],\n",
    "#     n_id=[4062],\n",
    "#     num_sampled_nodes=[3],\n",
    "#   },\n",
    "#   movie={\n",
    "#     node_id=[2544],\n",
    "#     x=[2544, 319],\n",
    "#     n_id=[2544],\n",
    "#     num_sampled_nodes=[3],\n",
    "#   },\n",
    "#   (user, rates, movie)={\n",
    "#     edge_index=[2, 14337],\n",
    "#     edge_label=[128],\n",
    "#     edge_label_index=[2, 128],\n",
    "#     e_id=[14337],\n",
    "#     num_sampled_edges=[2],\n",
    "#     input_id=[128],\n",
    "#   },\n",
    "#   (movie, rev_rates, user)={\n",
    "#     edge_index=[2, 18510],\n",
    "#     edge_label=[18510],\n",
    "#     e_id=[18510],\n",
    "#     num_sampled_edges=[2],\n",
    "#   }\n",
    "# )\n",
    "\n"
   ]
  },
  {
   "cell_type": "code",
   "execution_count": null,
   "metadata": {},
   "outputs": [],
   "source": []
  }
 ],
 "metadata": {
  "kernelspec": {
   "display_name": "venv",
   "language": "python",
   "name": "python3"
  },
  "language_info": {
   "codemirror_mode": {
    "name": "ipython",
    "version": 3
   },
   "file_extension": ".py",
   "mimetype": "text/x-python",
   "name": "python",
   "nbconvert_exporter": "python",
   "pygments_lexer": "ipython3",
   "version": "3.12.7"
  }
 },
 "nbformat": 4,
 "nbformat_minor": 2
}
