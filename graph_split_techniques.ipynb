{
 "cells": [
  {
   "cell_type": "code",
   "execution_count": 2,
   "metadata": {},
   "outputs": [],
   "source": [
    "import numpy as np\n",
    "import pandas as pd \n",
    "\n",
    "import torch\n",
    "from torch_geometric.data import HeteroData, Data\n",
    "from torch_geometric.loader import LinkLoader, LinkNeighborLoader, NeighborLoader\n",
    "import torch_geometric.transforms as T\n",
    "from torch_geometric.nn import SAGEConv, to_hetero\n",
    "from torch import Tensor"
   ]
  },
  {
   "cell_type": "code",
   "execution_count": 77,
   "metadata": {},
   "outputs": [],
   "source": [
    "# Node feature matrix of shape [num_nodes, num_node_features]\n",
    "# 5 nodes, each with a single feature\n",
    "x = torch.tensor([[1], [2], [3], [4], [5]], dtype=torch.float)\n",
    "\n",
    "# Edge indices (edges between nodes)\n",
    "# For example, edges: (0->1), (1->2), (2->3), (3->4), (4->0)\n",
    "edge_index = torch.tensor([\n",
    "    [0, 1, 2, 3, 4],\n",
    "    [1, 2, 3, 4, 0]\n",
    "], dtype=torch.long)\n",
    "\n",
    "# Edge labels (arbitrary labels for each edge)\n",
    "# For instance, labeling edges as [0, 1, 2, 3, 4]\n",
    "edge_label = torch.tensor([0, 1, 2, 3, 4], dtype=torch.long)\n",
    "\n",
    "# Create the PyG Data object\n",
    "data = Data(x=x, edge_index=edge_index, edge_label=edge_label)"
   ]
  },
  {
   "cell_type": "code",
   "execution_count": 78,
   "metadata": {},
   "outputs": [],
   "source": [
    "transform = T.RandomLinkSplit(\n",
    "    num_val=0.50,  # 10% validation edges\n",
    "    num_test = 0,\n",
    "    disjoint_train_ratio=0.3,  # 30% of training edges used for supervision\n",
    "    # edge_types=(\"user\", \"rates\", \"movie\"),  # Edge type\n",
    "    # rev_edge_types=(\"movie\", \"rev_rates\", \"user\"),  # Reverse edge type\n",
    ")\n",
    "\n",
    "train_data, val_data, _ = transform(data)"
   ]
  },
  {
   "cell_type": "code",
   "execution_count": 79,
   "metadata": {},
   "outputs": [
    {
     "data": {
      "text/plain": [
       "Data(x=[5, 1], edge_index=[2, 3], edge_label=[6], edge_label_index=[2, 6])"
      ]
     },
     "execution_count": 79,
     "metadata": {},
     "output_type": "execute_result"
    }
   ],
   "source": [
    "train_data"
   ]
  },
  {
   "cell_type": "code",
   "execution_count": 80,
   "metadata": {},
   "outputs": [
    {
     "data": {
      "text/plain": [
       "tensor([1, 3, 5, 0, 0, 0])"
      ]
     },
     "execution_count": 80,
     "metadata": {},
     "output_type": "execute_result"
    }
   ],
   "source": [
    "train_data.edge_label"
   ]
  },
  {
   "cell_type": "code",
   "execution_count": 81,
   "metadata": {},
   "outputs": [
    {
     "data": {
      "text/plain": [
       "tensor([[0, 2, 4, 3, 3, 2],\n",
       "        [1, 3, 0, 1, 0, 4]])"
      ]
     },
     "execution_count": 81,
     "metadata": {},
     "output_type": "execute_result"
    }
   ],
   "source": [
    "train_data.edge_label_index"
   ]
  },
  {
   "cell_type": "code",
   "execution_count": 72,
   "metadata": {},
   "outputs": [
    {
     "data": {
      "text/plain": [
       "tensor([[2, 4, 3, 3],\n",
       "        [3, 0, 2, 0]])"
      ]
     },
     "execution_count": 72,
     "metadata": {},
     "output_type": "execute_result"
    }
   ],
   "source": [
    "train_data.edge_label_index"
   ]
  },
  {
   "cell_type": "code",
   "execution_count": 73,
   "metadata": {},
   "outputs": [
    {
     "data": {
      "text/plain": [
       "tensor([[1, 0, 0, 4],\n",
       "        [2, 1, 4, 2]])"
      ]
     },
     "execution_count": 73,
     "metadata": {},
     "output_type": "execute_result"
    }
   ],
   "source": [
    "val_data.edge_label_index"
   ]
  },
  {
   "cell_type": "code",
   "execution_count": 74,
   "metadata": {},
   "outputs": [
    {
     "data": {
      "text/plain": [
       "tensor([1., 1., 0., 0.])"
      ]
     },
     "execution_count": 74,
     "metadata": {},
     "output_type": "execute_result"
    }
   ],
   "source": [
    "val_data.edge_label"
   ]
  },
  {
   "cell_type": "code",
   "execution_count": null,
   "metadata": {},
   "outputs": [],
   "source": []
  }
 ],
 "metadata": {
  "kernelspec": {
   "display_name": "venv",
   "language": "python",
   "name": "python3"
  },
  "language_info": {
   "codemirror_mode": {
    "name": "ipython",
    "version": 3
   },
   "file_extension": ".py",
   "mimetype": "text/x-python",
   "name": "python",
   "nbconvert_exporter": "python",
   "pygments_lexer": "ipython3",
   "version": "3.12.7"
  }
 },
 "nbformat": 4,
 "nbformat_minor": 2
}
